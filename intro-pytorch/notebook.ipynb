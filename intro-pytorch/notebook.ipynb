{
  "cells": [
    {
      "cell_type": "markdown",
      "metadata": {
        "id": "w6ysrx5NemjE"
      },
      "source": [
        "# Learn Pytorch via a linear regression model\n",
        "In this excercise, you will learn tensorflow in steps. \n",
        "\n",
        "NOTE: There are seven questions, which include fixing code issues (marked by TODO), implementing functions (please see `implementation.py`), and answering questions. Please read instructions carefully.\n",
        "\n",
        "\n"
      ]
    },
    {
      "cell_type": "code",
      "execution_count": null,
      "metadata": {
        "id": "WY2CtkNclSrf",
        "colab": {
          "base_uri": "https://localhost:8080/"
        },
        "outputId": "6fd71ee9-5a8a-45b3-ba24-b244640f5330"
      },
      "outputs": [
        {
          "output_type": "stream",
          "name": "stdout",
          "text": [
            "Mounted at /content/drive\n"
          ]
        }
      ],
      "source": [
        "# If use google colab, mount the working directory there. \n",
        "from google.colab import drive\n",
        "import sys\n",
        "drive.mount('/content/drive')\n",
        "\n",
        "# NOTE: you need to use your own path to add the implementation to the python path \n",
        "# so you can import functions from implementation.py\n",
        "sys.path.append('/content/drive/MyDrive/cs137assignments/assignment1')"
      ]
    },
    {
      "cell_type": "code",
      "execution_count": null,
      "metadata": {
        "id": "Vrnf13XPemjG"
      },
      "outputs": [],
      "source": [
        "# A bit of setup\n",
        "import numpy as np\n",
        "import torch\n",
        "import matplotlib.pyplot as plt\n",
        "import sys\n",
        "\n",
        "%matplotlib inline\n",
        "plt.rcParams['figure.figsize'] = (10.0, 8.0) # set default size of plots\n",
        "plt.rcParams['image.interpolation'] = 'nearest'\n",
        "plt.rcParams['image.cmap'] = 'gray'\n",
        "\n",
        "# for auto-reloading external modules\n",
        "# see http://stackoverflow.com/questions/1907993/autoreload-of-modules-in-ipython\n",
        "%load_ext autoreload\n",
        "%autoreload 2\n"
      ]
    },
    {
      "cell_type": "markdown",
      "metadata": {
        "id": "v7Bxbb3hemjK"
      },
      "source": [
        "## Get to know `torch` through a few simple examples\n",
        "\n",
        "### <span style=\"color:red\">Question 1 (4 points):</span>\n",
        "You need to run all cells below and make necessary changes to avoid errors. "
      ]
    },
    {
      "cell_type": "markdown",
      "metadata": {
        "id": "BeM5aiNAemjL"
      },
      "source": [
        "### Pytorch basics\n",
        "Pytorch use tensors to store scalars, vectors, matrices, and tensors. Here is the introduction webpage of pytorch: https://pytorch.org/tutorials/ . The few cells below show you a few simple operations on pytorch arrays. "
      ]
    },
    {
      "cell_type": "code",
      "execution_count": null,
      "metadata": {
        "colab": {
          "base_uri": "https://localhost:8080/"
        },
        "id": "BwFJvGUhemjL",
        "outputId": "06f4cb80-f367-4acb-8406-5739735b0219"
      },
      "outputs": [
        {
          "output_type": "stream",
          "name": "stdout",
          "text": [
            "a has shape:  torch.Size([3])\n",
            "a + b is:  tensor([2., 3., 4.])\n"
          ]
        }
      ],
      "source": [
        "# Get the shape of a tensor: \n",
        "\n",
        "a = torch.tensor([1, 2, 3], dtype=torch.float32)\n",
        "\n",
        "print('a has shape: ', a.size())\n",
        "\n",
        "\n",
        "# If `b = [1, 1, 1]` has the same shape as a, then a + b should work, \n",
        "# TODO: the line below has an error, please fix it. \n",
        "\n",
        "b = torch.tensor([1, 1, 1])\n",
        "print(\"a + b is: \", a + b)\n"
      ]
    },
    {
      "cell_type": "code",
      "execution_count": null,
      "metadata": {
        "colab": {
          "base_uri": "https://localhost:8080/"
        },
        "id": "UbpM9jMUF5jF",
        "outputId": "b699b0d9-e505-41cf-bef5-398f8dfe6e13"
      },
      "outputs": [
        {
          "output_type": "stream",
          "name": "stdout",
          "text": [
            "Adding a to rows of c gives:\n",
            "tensor([[ 2.,  4.,  6.],\n",
            "        [ 5.,  7.,  9.],\n",
            "        [ 8., 10., 12.]])\n",
            "Adding a to columns of c gives:\n",
            "tensor([[ 2.,  3.,  4.],\n",
            "        [ 6.,  7.,  8.],\n",
            "        [10., 11., 12.]])\n"
          ]
        }
      ],
      "source": [
        "# broadcasting: adding `a` to each row of `c`\n",
        "# `a` and `c` has different shapes, but `a`'s shape matches the last \n",
        "# dimension of `c`, so we can still add them together -- it is equivalent to \n",
        "# repeat `a` along the first dimension and then add it to `c`. \n",
        "\n",
        "\n",
        "a = torch.tensor([1, 2, 3], dtype=torch.float32)\n",
        "c = torch.tensor([[1, 2, 3], [4, 5, 6], [7, 8, 9]], dtype=torch.float32)\n",
        "\n",
        "print(\"Adding a to rows of c gives:\")\n",
        "print(a + c)\n",
        "\n",
        "# TODO: broadcasting: adding `a` to each COLUMN of `c` so that `a+c` is the tensor in \n",
        "# `result`\n",
        "\n",
        "result = torch.tensor([[ 2.,  3.,  4.], [ 6.,  7.,  8.], [10., 11., 12.]])\n",
        "diff = torch.sum(torch.abs(a.reshape((-1, +1)) + c - result))\n",
        "\n",
        "if diff > 1e-6:\n",
        "    raise Exception(\"The calculation is wrong. The correct result should be \\n\" + str(result))\n",
        "\n",
        "print(\"Adding a to columns of c gives:\")\n",
        "print(a.reshape((-1, +1)) + c)\n"
      ]
    },
    {
      "cell_type": "code",
      "execution_count": null,
      "metadata": {
        "colab": {
          "base_uri": "https://localhost:8080/"
        },
        "id": "ynWpAtQ-emjM",
        "outputId": "048f753a-be06-4cad-e3fd-364e72561bf2"
      },
      "outputs": [
        {
          "output_type": "stream",
          "name": "stdout",
          "text": [
            "Sum up c along rows: tensor([ 6., 15., 24.])\n",
            "Sum up b along columns should be  tensor([12., 15., 18.])\n",
            "The calculation is correct\n"
          ]
        }
      ],
      "source": [
        "# take the sum along a dimension \n",
        "\n",
        "c = torch.tensor([[1, 2, 3], [4, 5, 6], [7, 8, 9]], dtype=torch.float32)\n",
        "\n",
        "print('Sum up c along rows:', torch.sum(c, axis=1)) # the `axis` specifies the dimension to be ``reduced''\n",
        "\n",
        "# TODO: sum up c along columns\n",
        "c_col_sum = torch.sum(c, axis=0)\n",
        "\n",
        "result = torch.tensor([12, 15, 18], dtype=torch.float32)\n",
        "print('Sum up b along columns should be ', result) # the `axis` specifies the dimension to be ``reduced''\n",
        "\n",
        "diff = torch.sum(torch.abs(c_col_sum - result))\n",
        "if diff > 1e-6:\n",
        "    raise Exception(\"The calculation is wrong\")\n",
        "\n",
        "print(\"The calculation is correct\")\n",
        "\n",
        "\n",
        "# similar functions are torch.max, torch.logsumexp\n"
      ]
    },
    {
      "cell_type": "code",
      "execution_count": null,
      "metadata": {
        "colab": {
          "base_uri": "https://localhost:8080/"
        },
        "id": "Je8vtNfoemjN",
        "outputId": "7790737f-3350-4a93-dd82-01a7f739bc2d"
      },
      "outputs": [
        {
          "output_type": "stream",
          "name": "stdout",
          "text": [
            "b has shape:  torch.Size([2, 3])\n",
            "c has shape:  torch.Size([1, 3])\n",
            "tensor([[6.],\n",
            "        [6.]])\n"
          ]
        }
      ],
      "source": [
        "# matrix multiplication \n",
        "\n",
        "\n",
        "\n",
        "# Use this line, otherwise it doesn't work.\n",
        "b = torch.tensor([[1, 1, 1], [1, 1, 1]] , dtype=torch.float32)\n",
        "print('b has shape: ', b.size())\n",
        "\n",
        "# \n",
        "# TODO: multiply the matrix `b` to the vector `c`. The line below does not work\n",
        "# for the matrix calculation below. The shape is incorrect, and the data type \n",
        "# does not match b either. Can you fix it? \n",
        "c = torch.tensor([[2, 2, 2]]) \n",
        "\n",
        "print('c has shape: ', c.size())\n",
        "\n",
        "print(torch.matmul(b, c.reshape(3, -1).float()))\n"
      ]
    },
    {
      "cell_type": "markdown",
      "metadata": {
        "id": "VGCEpLPKemjN"
      },
      "source": [
        "\n",
        "## Learning `torch` through a regression task\n",
        "\n",
        "### Implement  functions for a linear regression model \n",
        "\n",
        "### <span style=\"color:red\">Question 2 (3 points):</span>\n",
        "Please implement a linear regression model in `implementation.regression_func`. The empty function has detailed instructions. The following code helps you check correctness. "
      ]
    },
    {
      "cell_type": "code",
      "execution_count": null,
      "metadata": {
        "colab": {
          "base_uri": "https://localhost:8080/"
        },
        "id": "UMbRLE6_emjO",
        "outputId": "90a9d7cf-825f-429d-915b-37ff1f91ac60"
      },
      "outputs": [
        {
          "output_type": "stream",
          "name": "stdout",
          "text": [
            "[3.2 7.2]\n"
          ]
        }
      ],
      "source": [
        "\n",
        "\n",
        "from implementation import regression_func\n",
        "\n",
        "x = torch.tensor([[1, 2], [3, 4]], dtype=torch.float32)\n",
        "w = torch.tensor([1, 1], dtype=torch.float32, requires_grad = True)\n",
        "b = torch.tensor(0.2, dtype=torch.float32, requires_grad = True)\n",
        "\n",
        "y_hat = regression_func(x, w, b)\n",
        "\n",
        "# y_hat should be [3.2, 7.2]\n",
        "print(y_hat.detach().numpy())\n",
        "\n",
        "diff = torch.sum(torch.abs(y_hat - torch.tensor([3.2, 7.2])))\n",
        "if diff > 1e-6:\n",
        "    raise Exception(\"The calculation is incorrect.\")\n",
        "\n"
      ]
    },
    {
      "cell_type": "markdown",
      "metadata": {
        "id": "xRP0GCMremjO"
      },
      "source": [
        "### <span style=\"color:red\">Question 3 (3 points):</span>\n",
        "\n",
        "Please implement a loss function in  `implementation.loss_func`. The empty function has detailed instructions. The following code helps you check correctness."
      ]
    },
    {
      "cell_type": "code",
      "execution_count": null,
      "metadata": {
        "colab": {
          "base_uri": "https://localhost:8080/"
        },
        "id": "rWNF-gNtemjO",
        "outputId": "4b98bb4e-1a3b-4754-c921-e8dec0666cd5",
        "scrolled": true
      },
      "outputs": [
        {
          "output_type": "stream",
          "name": "stdout",
          "text": [
            "tensor(0.0800, grad_fn=<DotBackward0>)\n"
          ]
        }
      ],
      "source": [
        "from implementation import loss_func\n",
        "\n",
        "# TODO: you need to fix an issue in this line, otherwise it does not work with the loss function\n",
        "y = torch.tensor([3, 7])\n",
        "\n",
        "loss = loss_func(y, y_hat)\n",
        "\n",
        "# the loss should be 0.08\n",
        "print(loss)\n",
        "\n",
        "diff = torch.sum(torch.abs(loss - 0.08))\n",
        "if diff > 1e-6:\n",
        "    raise Exception(\"The calculation is incorrect.\")\n",
        "\n",
        "\n"
      ]
    },
    {
      "cell_type": "markdown",
      "metadata": {
        "id": "vztUd99oF5jN"
      },
      "source": [
        "### <span style=\"color:red\">Question 4 (2 points):</span>\n",
        "\n",
        "The following code block shows a simple computation graph of the calculation of `var4`. Which of the three variables (`var1`, `var2`, `var3`) are not shown in this computation graph? Please give the reason.  \n",
        "\n",
        "Answer: var2 and var3 because var2 is not a tensor and var3 doesn't have a grad function. Since torchviz operates on the backward pass, these variables are not shown on the graph.\n"
      ]
    },
    {
      "cell_type": "code",
      "source": [
        "!pip install torchviz"
      ],
      "metadata": {
        "id": "KTOSn8w_sUlQ"
      },
      "execution_count": null,
      "outputs": []
    },
    {
      "cell_type": "code",
      "execution_count": null,
      "metadata": {
        "id": "3bm7oIrrF5jO",
        "outputId": "7e17d86b-0453-4ebb-cb9d-80be2839f585",
        "colab": {
          "base_uri": "https://localhost:8080/",
          "height": 383
        }
      },
      "outputs": [
        {
          "output_type": "execute_result",
          "data": {
            "text/plain": [
              "<graphviz.dot.Digraph at 0x7f9bd75b2e90>"
            ],
            "image/svg+xml": "<?xml version=\"1.0\" encoding=\"UTF-8\" standalone=\"no\"?>\n<!DOCTYPE svg PUBLIC \"-//W3C//DTD SVG 1.1//EN\"\n \"http://www.w3.org/Graphics/SVG/1.1/DTD/svg11.dtd\">\n<!-- Generated by graphviz version 2.40.1 (20161225.0304)\n -->\n<!-- Title: %3 Pages: 1 -->\n<svg width=\"109pt\" height=\"271pt\"\n viewBox=\"0.00 0.00 109.00 271.00\" xmlns=\"http://www.w3.org/2000/svg\" xmlns:xlink=\"http://www.w3.org/1999/xlink\">\n<g id=\"graph0\" class=\"graph\" transform=\"scale(1 1) rotate(0) translate(4 267)\">\n<title>%3</title>\n<polygon fill=\"#ffffff\" stroke=\"transparent\" points=\"-4,4 -4,-267 105,-267 105,4 -4,4\"/>\n<!-- 140307309437680 -->\n<g id=\"node1\" class=\"node\">\n<title>140307309437680</title>\n<polygon fill=\"#caff70\" stroke=\"#000000\" points=\"77.5,-31 23.5,-31 23.5,0 77.5,0 77.5,-31\"/>\n<text text-anchor=\"middle\" x=\"50.5\" y=\"-7\" font-family=\"monospace\" font-size=\"10.00\" fill=\"#000000\"> ()</text>\n</g>\n<!-- 140307309412624 -->\n<g id=\"node2\" class=\"node\">\n<title>140307309412624</title>\n<polygon fill=\"#d3d3d3\" stroke=\"#000000\" points=\"95,-86 6,-86 6,-67 95,-67 95,-86\"/>\n<text text-anchor=\"middle\" x=\"50.5\" y=\"-74\" font-family=\"monospace\" font-size=\"10.00\" fill=\"#000000\">AddBackward0</text>\n</g>\n<!-- 140307309412624&#45;&gt;140307309437680 -->\n<g id=\"edge4\" class=\"edge\">\n<title>140307309412624&#45;&gt;140307309437680</title>\n<path fill=\"none\" stroke=\"#000000\" d=\"M50.5,-66.9688C50.5,-60.1289 50.5,-50.5621 50.5,-41.5298\"/>\n<polygon fill=\"#000000\" stroke=\"#000000\" points=\"54.0001,-41.3678 50.5,-31.3678 47.0001,-41.3678 54.0001,-41.3678\"/>\n</g>\n<!-- 140307309732816 -->\n<g id=\"node3\" class=\"node\">\n<title>140307309732816</title>\n<polygon fill=\"#d3d3d3\" stroke=\"#000000\" points=\"95,-141 6,-141 6,-122 95,-122 95,-141\"/>\n<text text-anchor=\"middle\" x=\"50.5\" y=\"-129\" font-family=\"monospace\" font-size=\"10.00\" fill=\"#000000\">AddBackward0</text>\n</g>\n<!-- 140307309732816&#45;&gt;140307309412624 -->\n<g id=\"edge1\" class=\"edge\">\n<title>140307309732816&#45;&gt;140307309412624</title>\n<path fill=\"none\" stroke=\"#000000\" d=\"M50.5,-121.9197C50.5,-114.9083 50.5,-105.1442 50.5,-96.4652\"/>\n<polygon fill=\"#000000\" stroke=\"#000000\" points=\"54.0001,-96.3408 50.5,-86.3408 47.0001,-96.3409 54.0001,-96.3408\"/>\n</g>\n<!-- 140307309735440 -->\n<g id=\"node4\" class=\"node\">\n<title>140307309735440</title>\n<polygon fill=\"#d3d3d3\" stroke=\"#000000\" points=\"101,-196 0,-196 0,-177 101,-177 101,-196\"/>\n<text text-anchor=\"middle\" x=\"50.5\" y=\"-184\" font-family=\"monospace\" font-size=\"10.00\" fill=\"#000000\">AccumulateGrad</text>\n</g>\n<!-- 140307309735440&#45;&gt;140307309732816 -->\n<g id=\"edge2\" class=\"edge\">\n<title>140307309735440&#45;&gt;140307309732816</title>\n<path fill=\"none\" stroke=\"#000000\" d=\"M50.5,-176.9197C50.5,-169.9083 50.5,-160.1442 50.5,-151.4652\"/>\n<polygon fill=\"#000000\" stroke=\"#000000\" points=\"54.0001,-151.3408 50.5,-141.3408 47.0001,-151.3409 54.0001,-151.3408\"/>\n</g>\n<!-- 140307309751760 -->\n<g id=\"node5\" class=\"node\">\n<title>140307309751760</title>\n<polygon fill=\"#add8e6\" stroke=\"#000000\" points=\"77.5,-263 23.5,-263 23.5,-232 77.5,-232 77.5,-263\"/>\n<text text-anchor=\"middle\" x=\"50.5\" y=\"-239\" font-family=\"monospace\" font-size=\"10.00\" fill=\"#000000\"> ()</text>\n</g>\n<!-- 140307309751760&#45;&gt;140307309735440 -->\n<g id=\"edge3\" class=\"edge\">\n<title>140307309751760&#45;&gt;140307309735440</title>\n<path fill=\"none\" stroke=\"#000000\" d=\"M50.5,-231.791C50.5,-224.0249 50.5,-214.5706 50.5,-206.3129\"/>\n<polygon fill=\"#000000\" stroke=\"#000000\" points=\"54.0001,-206.0647 50.5,-196.0648 47.0001,-206.0648 54.0001,-206.0647\"/>\n</g>\n</g>\n</svg>\n"
          },
          "metadata": {},
          "execution_count": 68
        }
      ],
      "source": [
        "# Check the computation graph. \n",
        "# NOTE: when you have multiple runs, remember to choose the correct run to display the graph\n",
        "# %tensorboard --logdir runs\n",
        "\n",
        "import torchviz\n",
        "\n",
        "\n",
        "var1 = torch.tensor(1.0, requires_grad = True)\n",
        "var2 = 5\n",
        "var3 = torch.tensor(3.0, requires_grad = False)\n",
        "\n",
        "var4 = var1 + var2 + var3\n",
        "\n",
        "\n",
        "torchviz.make_dot(var4)"
      ]
    },
    {
      "cell_type": "markdown",
      "metadata": {
        "id": "sg5xzFxZF5jQ"
      },
      "source": [
        "### <span style=\"color:red\">Question 5 (2 points):</span>\n",
        "Please show the computation graph of your loss calculation. The following code is a simple example of showing computation graph. Can you show the computation graph of `loss` from your model?\n",
        "\n",
        "NOTE: this is another chance for you to check the correctness of your implementation. If your implementation is wrong, you will also lose points from this question. "
      ]
    },
    {
      "cell_type": "code",
      "execution_count": null,
      "metadata": {
        "id": "cdnoKW7hF5jR",
        "colab": {
          "base_uri": "https://localhost:8080/",
          "height": 545
        },
        "outputId": "508e8490-63ad-4c15-e119-7182593f94c2"
      },
      "outputs": [
        {
          "output_type": "execute_result",
          "data": {
            "text/plain": [
              "<graphviz.dot.Digraph at 0x7f9bd7650590>"
            ],
            "image/svg+xml": "<?xml version=\"1.0\" encoding=\"UTF-8\" standalone=\"no\"?>\n<!DOCTYPE svg PUBLIC \"-//W3C//DTD SVG 1.1//EN\"\n \"http://www.w3.org/Graphics/SVG/1.1/DTD/svg11.dtd\">\n<!-- Generated by graphviz version 2.40.1 (20161225.0304)\n -->\n<!-- Title: %3 Pages: 1 -->\n<svg width=\"219pt\" height=\"393pt\"\n viewBox=\"0.00 0.00 219.00 393.00\" xmlns=\"http://www.w3.org/2000/svg\" xmlns:xlink=\"http://www.w3.org/1999/xlink\">\n<g id=\"graph0\" class=\"graph\" transform=\"scale(1 1) rotate(0) translate(4 389)\">\n<title>%3</title>\n<polygon fill=\"#ffffff\" stroke=\"transparent\" points=\"-4,4 -4,-389 215,-389 215,4 -4,4\"/>\n<!-- 140307309743856 -->\n<g id=\"node1\" class=\"node\">\n<title>140307309743856</title>\n<polygon fill=\"#caff70\" stroke=\"#000000\" points=\"132.5,-31 78.5,-31 78.5,0 132.5,0 132.5,-31\"/>\n<text text-anchor=\"middle\" x=\"105.5\" y=\"-7\" font-family=\"monospace\" font-size=\"10.00\" fill=\"#000000\"> ()</text>\n</g>\n<!-- 140307309389776 -->\n<g id=\"node2\" class=\"node\">\n<title>140307309389776</title>\n<polygon fill=\"#d3d3d3\" stroke=\"#000000\" points=\"150,-86 61,-86 61,-67 150,-67 150,-86\"/>\n<text text-anchor=\"middle\" x=\"105.5\" y=\"-74\" font-family=\"monospace\" font-size=\"10.00\" fill=\"#000000\">DotBackward0</text>\n</g>\n<!-- 140307309389776&#45;&gt;140307309743856 -->\n<g id=\"edge10\" class=\"edge\">\n<title>140307309389776&#45;&gt;140307309743856</title>\n<path fill=\"none\" stroke=\"#000000\" d=\"M105.5,-66.9688C105.5,-60.1289 105.5,-50.5621 105.5,-41.5298\"/>\n<polygon fill=\"#000000\" stroke=\"#000000\" points=\"109.0001,-41.3678 105.5,-31.3678 102.0001,-41.3678 109.0001,-41.3678\"/>\n</g>\n<!-- 140307309389904 -->\n<g id=\"node3\" class=\"node\">\n<title>140307309389904</title>\n<polygon fill=\"#d3d3d3\" stroke=\"#000000\" points=\"97,-141 8,-141 8,-122 97,-122 97,-141\"/>\n<text text-anchor=\"middle\" x=\"52.5\" y=\"-129\" font-family=\"monospace\" font-size=\"10.00\" fill=\"#000000\">SubBackward0</text>\n</g>\n<!-- 140307309389904&#45;&gt;140307309389776 -->\n<g id=\"edge1\" class=\"edge\">\n<title>140307309389904&#45;&gt;140307309389776</title>\n<path fill=\"none\" stroke=\"#000000\" d=\"M61.7319,-121.9197C69.2391,-114.1293 80.021,-102.9405 89.0049,-93.6176\"/>\n<polygon fill=\"#000000\" stroke=\"#000000\" points=\"91.5983,-95.9703 96.017,-86.3408 86.5578,-91.113 91.5983,-95.9703\"/>\n</g>\n<!-- 140307309389136 -->\n<g id=\"node4\" class=\"node\">\n<title>140307309389136</title>\n<polygon fill=\"#d3d3d3\" stroke=\"#000000\" points=\"150,-196 61,-196 61,-177 150,-177 150,-196\"/>\n<text text-anchor=\"middle\" x=\"105.5\" y=\"-184\" font-family=\"monospace\" font-size=\"10.00\" fill=\"#000000\">AddBackward0</text>\n</g>\n<!-- 140307309389136&#45;&gt;140307309389904 -->\n<g id=\"edge2\" class=\"edge\">\n<title>140307309389136&#45;&gt;140307309389904</title>\n<path fill=\"none\" stroke=\"#000000\" d=\"M96.2681,-176.9197C88.7609,-169.1293 77.979,-157.9405 68.9951,-148.6176\"/>\n<polygon fill=\"#000000\" stroke=\"#000000\" points=\"71.4422,-146.113 61.983,-141.3408 66.4017,-150.9703 71.4422,-146.113\"/>\n</g>\n<!-- 140307309388944 -->\n<g id=\"node10\" class=\"node\">\n<title>140307309388944</title>\n<polygon fill=\"#d3d3d3\" stroke=\"#000000\" points=\"204,-141 115,-141 115,-122 204,-122 204,-141\"/>\n<text text-anchor=\"middle\" x=\"159.5\" y=\"-129\" font-family=\"monospace\" font-size=\"10.00\" fill=\"#000000\">SubBackward0</text>\n</g>\n<!-- 140307309389136&#45;&gt;140307309388944 -->\n<g id=\"edge9\" class=\"edge\">\n<title>140307309389136&#45;&gt;140307309388944</title>\n<path fill=\"none\" stroke=\"#000000\" d=\"M114.9061,-176.9197C122.5549,-169.1293 133.5403,-157.9405 142.6936,-148.6176\"/>\n<polygon fill=\"#000000\" stroke=\"#000000\" points=\"145.3296,-150.9286 149.8381,-141.3408 140.3347,-146.0244 145.3296,-150.9286\"/>\n</g>\n<!-- 140307309388176 -->\n<g id=\"node5\" class=\"node\">\n<title>140307309388176</title>\n<polygon fill=\"#d3d3d3\" stroke=\"#000000\" points=\"92,-251 9,-251 9,-232 92,-232 92,-251\"/>\n<text text-anchor=\"middle\" x=\"50.5\" y=\"-239\" font-family=\"monospace\" font-size=\"10.00\" fill=\"#000000\">MvBackward0</text>\n</g>\n<!-- 140307309388176&#45;&gt;140307309389136 -->\n<g id=\"edge3\" class=\"edge\">\n<title>140307309388176&#45;&gt;140307309389136</title>\n<path fill=\"none\" stroke=\"#000000\" d=\"M60.0803,-231.9197C67.8707,-224.1293 79.0595,-212.9405 88.3824,-203.6176\"/>\n<polygon fill=\"#000000\" stroke=\"#000000\" points=\"91.063,-205.8868 95.6592,-196.3408 86.1132,-200.937 91.063,-205.8868\"/>\n</g>\n<!-- 140307309387920 -->\n<g id=\"node6\" class=\"node\">\n<title>140307309387920</title>\n<polygon fill=\"#d3d3d3\" stroke=\"#000000\" points=\"101,-312 0,-312 0,-293 101,-293 101,-312\"/>\n<text text-anchor=\"middle\" x=\"50.5\" y=\"-300\" font-family=\"monospace\" font-size=\"10.00\" fill=\"#000000\">AccumulateGrad</text>\n</g>\n<!-- 140307309387920&#45;&gt;140307309388176 -->\n<g id=\"edge4\" class=\"edge\">\n<title>140307309387920&#45;&gt;140307309388176</title>\n<path fill=\"none\" stroke=\"#000000\" d=\"M50.5,-292.9688C50.5,-284.5131 50.5,-271.8901 50.5,-261.2615\"/>\n<polygon fill=\"#000000\" stroke=\"#000000\" points=\"54.0001,-261.1656 50.5,-251.1656 47.0001,-261.1657 54.0001,-261.1656\"/>\n</g>\n<!-- 140307309755280 -->\n<g id=\"node7\" class=\"node\">\n<title>140307309755280</title>\n<polygon fill=\"#add8e6\" stroke=\"#000000\" points=\"77.5,-385 23.5,-385 23.5,-354 77.5,-354 77.5,-385\"/>\n<text text-anchor=\"middle\" x=\"50.5\" y=\"-361\" font-family=\"monospace\" font-size=\"10.00\" fill=\"#000000\"> (2)</text>\n</g>\n<!-- 140307309755280&#45;&gt;140307309387920 -->\n<g id=\"edge5\" class=\"edge\">\n<title>140307309755280&#45;&gt;140307309387920</title>\n<path fill=\"none\" stroke=\"#000000\" d=\"M50.5,-353.9604C50.5,-344.6356 50.5,-332.6748 50.5,-322.6317\"/>\n<polygon fill=\"#000000\" stroke=\"#000000\" points=\"54.0001,-322.35 50.5,-312.3501 47.0001,-322.3501 54.0001,-322.35\"/>\n</g>\n<!-- 140307309390160 -->\n<g id=\"node8\" class=\"node\">\n<title>140307309390160</title>\n<polygon fill=\"#d3d3d3\" stroke=\"#000000\" points=\"211,-251 110,-251 110,-232 211,-232 211,-251\"/>\n<text text-anchor=\"middle\" x=\"160.5\" y=\"-239\" font-family=\"monospace\" font-size=\"10.00\" fill=\"#000000\">AccumulateGrad</text>\n</g>\n<!-- 140307309390160&#45;&gt;140307309389136 -->\n<g id=\"edge6\" class=\"edge\">\n<title>140307309390160&#45;&gt;140307309389136</title>\n<path fill=\"none\" stroke=\"#000000\" d=\"M150.9197,-231.9197C143.1293,-224.1293 131.9405,-212.9405 122.6176,-203.6176\"/>\n<polygon fill=\"#000000\" stroke=\"#000000\" points=\"124.8868,-200.937 115.3408,-196.3408 119.937,-205.8868 124.8868,-200.937\"/>\n</g>\n<!-- 140307309755856 -->\n<g id=\"node9\" class=\"node\">\n<title>140307309755856</title>\n<polygon fill=\"#add8e6\" stroke=\"#000000\" points=\"187.5,-318 133.5,-318 133.5,-287 187.5,-287 187.5,-318\"/>\n<text text-anchor=\"middle\" x=\"160.5\" y=\"-294\" font-family=\"monospace\" font-size=\"10.00\" fill=\"#000000\"> ()</text>\n</g>\n<!-- 140307309755856&#45;&gt;140307309390160 -->\n<g id=\"edge7\" class=\"edge\">\n<title>140307309755856&#45;&gt;140307309390160</title>\n<path fill=\"none\" stroke=\"#000000\" d=\"M160.5,-286.791C160.5,-279.0249 160.5,-269.5706 160.5,-261.3129\"/>\n<polygon fill=\"#000000\" stroke=\"#000000\" points=\"164.0001,-261.0647 160.5,-251.0648 157.0001,-261.0648 164.0001,-261.0647\"/>\n</g>\n<!-- 140307309388944&#45;&gt;140307309389776 -->\n<g id=\"edge8\" class=\"edge\">\n<title>140307309388944&#45;&gt;140307309389776</title>\n<path fill=\"none\" stroke=\"#000000\" d=\"M150.0939,-121.9197C142.4451,-114.1293 131.4597,-102.9405 122.3064,-93.6176\"/>\n<polygon fill=\"#000000\" stroke=\"#000000\" points=\"124.6653,-91.0244 115.1619,-86.3408 119.6704,-95.9286 124.6653,-91.0244\"/>\n</g>\n</g>\n</svg>\n"
          },
          "metadata": {},
          "execution_count": 64
        }
      ],
      "source": [
        "# TODO: please write code to show the computation graph of `loss`. \n",
        "torchviz.make_dot(loss)"
      ]
    },
    {
      "cell_type": "markdown",
      "metadata": {
        "id": "GRY4ZWw6F5jR"
      },
      "source": [
        "### <span style=\"color:red\">Question 6 (2 points):</span>\n",
        "\n",
        "Please fix issues in the following two code blocks. "
      ]
    },
    {
      "cell_type": "code",
      "execution_count": null,
      "metadata": {
        "colab": {
          "base_uri": "https://localhost:8080/"
        },
        "id": "3o50K53BemjP",
        "outputId": "473f75e9-0d44-442c-ad63-35320ec43bae"
      },
      "outputs": [
        {
          "output_type": "stream",
          "name": "stdout",
          "text": [
            "[tensor([1.6000, 2.4000]), tensor(0.8000)]\n"
          ]
        }
      ],
      "source": [
        "# Check gradients of parameters\n",
        "\n",
        "x = torch.tensor([[1, 2], [3, 4]], dtype=torch.float32)\n",
        "w = torch.tensor([1, 1], dtype=torch.float32, requires_grad = True)\n",
        "b = torch.tensor(0.2, dtype=torch.float32, requires_grad = True)\n",
        "\n",
        "y_hat = regression_func(x, w, b)\n",
        "loss  = loss_func(y, y_hat)\n",
        "\n",
        "# TODO: uncomment the following line so that torch computes gradients and stores them in `.grad`\n",
        "loss.backward()\n",
        "\n",
        "dl_dwb = [w.grad, b.grad]\n",
        "\n",
        "if w.grad is None or b.grad is None:\n",
        "    raise Exception(\"No gradient is computed for w or b\")\n",
        "\n",
        "# gradient with respect to w and b\n",
        "print(dl_dwb)"
      ]
    },
    {
      "cell_type": "code",
      "execution_count": null,
      "metadata": {
        "colab": {
          "base_uri": "https://localhost:8080/"
        },
        "id": "ABhDSyyBemjQ",
        "outputId": "9140df51-e88c-4d91-9862-441e9a7fa2c9"
      },
      "outputs": [
        {
          "output_type": "stream",
          "name": "stdout",
          "text": [
            "tensor([-0.6000, -1.4000], requires_grad=True)\n",
            "tensor(-0.6000, requires_grad=True)\n"
          ]
        }
      ],
      "source": [
        "# Update model parameters in one optimization step\n",
        "# TODO: Can you fix the following to lines, so `w` will be updated by the optimizer ?\n",
        "w = torch.tensor([1, 1], dtype=torch.float32, requires_grad = True)\n",
        "b = torch.tensor(0.2, dtype=torch.float32, requires_grad = True)\n",
        "\n",
        "# note that the learning rate is 1.0\n",
        "optimizer = torch.optim.SGD([w, b], lr=1.0)\n",
        "optimizer.zero_grad()\n",
        "\n",
        "y_hat = regression_func(x, w, b)\n",
        "loss  = loss_func(y, y_hat)\n",
        "\n",
        "loss.backward()\n",
        "\n",
        "optimizer.step()\n",
        "\n",
        "# Check the result below. Note that the calculation is: w <- w - dw * learning_rate; \n",
        "# it is subtraction, not addtion.\n",
        "print(w)\n",
        "print(b)\n",
        "\n",
        "diff = torch.sum(torch.abs(w - torch.tensor([1.0, 1.0])))\n",
        "if diff < 1e-6:\n",
        "    raise Exception(\"w is not updated by the optimizer.\")"
      ]
    },
    {
      "cell_type": "markdown",
      "metadata": {
        "id": "m43WxmA-emjQ"
      },
      "source": [
        "### Train the regression model\n",
        "\n",
        "Now we can implement a regression model. We use data with one feature only so we can plot the data easily. Assume the feature matrix is `x_np` and the label is `y_np`. \n"
      ]
    },
    {
      "cell_type": "code",
      "execution_count": null,
      "metadata": {
        "colab": {
          "base_uri": "https://localhost:8080/",
          "height": 484
        },
        "id": "Cq0vccIJemjQ",
        "outputId": "e81ba7b4-5146-4b83-9b61-609246f5dd0b"
      },
      "outputs": [
        {
          "output_type": "display_data",
          "data": {
            "text/plain": [
              "<Figure size 720x576 with 1 Axes>"
            ],
            "image/png": "[encoded data removed]"
          },
          "metadata": {
            "needs_background": "light"
          }
        }
      ],
      "source": [
        "# plot the data before fitting the model. \n",
        "# numpy values\n",
        "N = 100\n",
        "x_np = np.random.random_sample([N, 1]).astype(np.float32)\n",
        "y_np = (np.squeeze(x_np.dot([[0.3]])) + 1.0 + 0.1 * np.random.random_sample([N])).astype(np.float32)\n",
        "\n",
        "plt.plot(np.squeeze(x_np), y_np, 'o')\n",
        "plt.ylabel('y')\n",
        "plt.ylabel('x')\n",
        "plt.show()\n"
      ]
    },
    {
      "cell_type": "markdown",
      "metadata": {
        "id": "steU2m6DemjR"
      },
      "source": [
        "### <span style=\"color:red\">Question 7 (4 points):</span>\n",
        "Please implement the `implementation.train_lr` function, which trains a linear regression model.  "
      ]
    },
    {
      "cell_type": "code",
      "execution_count": null,
      "metadata": {
        "colab": {
          "base_uri": "https://localhost:8080/"
        },
        "id": "bFqsYBrjemjR",
        "outputId": "2a53528a-c2a0-433f-d6a5-470a43fcd8c3"
      },
      "outputs": [
        {
          "output_type": "stream",
          "name": "stdout",
          "text": [
            "loss beocmes  18.382622  after  1  iterations.\n",
            "loss beocmes  3.296521  after  101  iterations.\n",
            "loss beocmes  6.3941016  after  201  iterations.\n",
            "loss beocmes  0.5472975  after  301  iterations.\n",
            "loss beocmes  0.40080297  after  401  iterations.\n",
            "loss beocmes  0.3843857  after  501  iterations.\n",
            "loss beocmes  0.09413991  after  601  iterations.\n",
            "loss beocmes  0.110917605  after  701  iterations.\n",
            "loss beocmes  0.099748805  after  801  iterations.\n",
            "loss beocmes  0.08699224  after  901  iterations.\n",
            "loss becomes  0.087886184  after  1000  iterations.\n",
            "(w, b) =  (tensor([0.3034], requires_grad=True), tensor([1.0492], requires_grad=True))\n"
          ]
        }
      ],
      "source": [
        "from implementation import train_lr\n",
        "\n",
        "# You may want to use a small lambda the regularization weight\n",
        "# lamb = 10000\n",
        "lamb = 0.01\n",
        "\n",
        "w, b = train_lr(x=x_np, y=y_np, lamb=lamb)\n",
        "\n",
        "print('(w, b) = ', (w, b))\n",
        "\n",
        "# the result should be similar to (0.3, 1.0)"
      ]
    },
    {
      "cell_type": "code",
      "execution_count": null,
      "metadata": {
        "colab": {
          "base_uri": "https://localhost:8080/",
          "height": 484
        },
        "id": "YKV1uFiFemjR",
        "outputId": "53f050d5-69d8-4862-90c0-69bb1c9f158b"
      },
      "outputs": [
        {
          "output_type": "display_data",
          "data": {
            "text/plain": [
              "<Figure size 720x576 with 1 Axes>"
            ],
            "image/png": "[encoded data removed]"
          },
          "metadata": {
            "needs_background": "light"
          }
        }
      ],
      "source": [
        "# Plot the result\n",
        "\n",
        "w_np = w.detach().numpy()\n",
        "b_np = b.detach().numpy()\n",
        "\n",
        "x_line = np.arange(12) / 10.0\n",
        "y_line = x_line * np.squeeze(w_np) + b_np\n",
        "\n",
        "plt.plot(x_np, y_np, 'o')\n",
        "plt.plot(x_line, y_line)\n",
        "plt.ylabel('y')\n",
        "plt.ylabel('x')\n",
        "plt.show()\n",
        "\n",
        "\n",
        "# Please check whether the trained model fit the data (the line roughly cross data points). \n",
        "# If your model does not fit the data well, your model training is probably not successful.  \n"
      ]
    },
    {
      "cell_type": "code",
      "source": [],
      "metadata": {
        "id": "WNqPTTraVasS"
      },
      "execution_count": null,
      "outputs": []
    }
  ],
  "metadata": {
    "colab": {
      "collapsed_sections": [],
      "provenance": []
    },
    "kernelspec": {
      "display_name": "Python 3 (ipykernel)",
      "language": "python",
      "name": "python3"
    },
    "language_info": {
      "codemirror_mode": {
        "name": "ipython",
        "version": 3
      },
      "file_extension": ".py",
      "mimetype": "text/x-python",
      "name": "python",
      "nbconvert_exporter": "python",
      "pygments_lexer": "ipython3",
      "version": "3.9.12"
    }
  },
  "nbformat": 4,
  "nbformat_minor": 0
}