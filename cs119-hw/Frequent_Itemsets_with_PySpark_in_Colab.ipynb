{
  "cells": [
    {
      "cell_type": "markdown",
      "metadata": {
        "id": "sq8U3BtmhtRx"
      },
      "source": [
        "\n",
        "# **Frequent Itemsets with PySpark in Colab**\n",
        "\n",
        "To run spark in Colab, we need to first install all the dependencies in Colab environment i.e. Apache Spark 2.3.2 with hadoop 2.7, Java 8 and Findspark to locate the spark in the system.\n",
        "\n",
        "Follow the steps to install the dependencies:"
      ]
    },
    {
      "cell_type": "code",
      "execution_count": 1,
      "metadata": {
        "id": "lh5NCoc8fsSO"
      },
      "outputs": [],
      "source": [
        "!apt-get install openjdk-8-jdk-headless -qq > /dev/null"
      ]
    },
    {
      "cell_type": "code",
      "execution_count": 2,
      "metadata": {
        "id": "kpXBmifOrYgd"
      },
      "outputs": [],
      "source": [
        "!wget -qN https://archive.apache.org/dist/spark/spark-3.2.1/spark-3.2.1-bin-hadoop3.2.tgz\n",
        "!tar xf spark-3.2.1-bin-hadoop3.2.tgz"
      ]
    },
    {
      "cell_type": "code",
      "execution_count": 3,
      "metadata": {
        "id": "N5w85-Vaq3ow"
      },
      "outputs": [],
      "source": [
        "!pip install -q findspark"
      ]
    },
    {
      "cell_type": "markdown",
      "metadata": {
        "id": "ILheUROOhprv"
      },
      "source": [
        "Set the location of Java and Spark by running the following code:"
      ]
    },
    {
      "cell_type": "code",
      "execution_count": 4,
      "metadata": {
        "id": "7kaCVU3At7XT"
      },
      "outputs": [],
      "source": [
        "import os\n",
        "os.environ[\"JAVA_HOME\"] = \"/usr/lib/jvm/java-8-openjdk-amd64\"\n",
        "os.environ[\"SPARK_HOME\"] = \"spark-3.2.1-bin-hadoop3.2\""
      ]
    },
    {
      "cell_type": "markdown",
      "metadata": {
        "id": "KwrqMk3HiMiE"
      },
      "source": [
        "Install PySpark and run a local spark session to test the installation:"
      ]
    },
    {
      "cell_type": "code",
      "execution_count": 5,
      "metadata": {
        "colab": {
          "base_uri": "https://localhost:8080/",
          "height": 0
        },
        "id": "3qus-2l0zlSu",
        "outputId": "181b3757-fae5-4c90-ddee-f9f0fc2ceab3"
      },
      "outputs": [
        {
          "name": "stdout",
          "output_type": "stream",
          "text": [
            "Collecting pyspark\n",
            "  Downloading pyspark-3.2.1.tar.gz (281.4 MB)\n",
            "\u001b[K     |████████████████████████████████| 281.4 MB 33 kB/s \n",
            "\u001b[?25hCollecting py4j==0.10.9.3\n",
            "  Downloading py4j-0.10.9.3-py2.py3-none-any.whl (198 kB)\n",
            "\u001b[K     |████████████████████████████████| 198 kB 54.6 MB/s \n",
            "\u001b[?25hBuilding wheels for collected packages: pyspark\n",
            "  Building wheel for pyspark (setup.py) ... \u001b[?25l\u001b[?25hdone\n",
            "  Created wheel for pyspark: filename=pyspark-3.2.1-py2.py3-none-any.whl size=281853642 sha256=34c458f9f1528f93e791011ea107b2f3154e6b6523f44a69de9a030ba03ed6fd\n",
            "  Stored in directory: /root/.cache/pip/wheels/9f/f5/07/7cd8017084dce4e93e84e92efd1e1d5334db05f2e83bcef74f\n",
            "Successfully built pyspark\n",
            "Installing collected packages: py4j, pyspark\n",
            "Successfully installed py4j-0.10.9.3 pyspark-3.2.1\n"
          ]
        }
      ],
      "source": [
        "!pip install pyspark"
      ]
    },
    {
      "cell_type": "code",
      "execution_count": 6,
      "metadata": {
        "id": "9_Uz1NL4gHFx"
      },
      "outputs": [],
      "source": [
        "import findspark\n",
        "findspark.init()\n",
        "from pyspark.sql import SparkSession\n",
        "spark = SparkSession.builder.master(\"local[*]\").getOrCreate()\n",
        "sc = spark.sparkContext"
      ]
    },
    {
      "cell_type": "markdown",
      "metadata": {
        "id": "JEb4HTRwiaJx"
      },
      "source": [
        "Let's create a spark DataFrame to confirm that we can run PySpark, and preload that DataFrame with test baskets.\n",
        "\n",
        "| Transaction ID | Stock Items |\n",
        "|:--------------:|:---------------- |\n",
        "| 100 | milk, coke, beer |\n",
        "| 200 | milk, pepsi, juice |\n",
        "| 300 | milk, beer |\n",
        "| 400 | coke, juice |\n",
        "| 500 | milk, pepsi, beer |\n",
        "| 600 | milk, coke, beer, juice |\n",
        "| 700 | coke, beer, juice |\n",
        "| 800 | beer, coke |\n",
        "\n",
        "Each DataFrame row is `<Transaction ID, [Stock Items]>`"
      ]
    },
    {
      "cell_type": "code",
      "execution_count": 7,
      "metadata": {
        "colab": {
          "base_uri": "https://localhost:8080/",
          "height": 0
        },
        "id": "GrGZXM3aprAT",
        "outputId": "15a548a4-a3c9-4da4-cfe6-7739df81445e"
      },
      "outputs": [
        {
          "name": "stdout",
          "output_type": "stream",
          "text": [
            "+---+-------------+\n",
            "| id|        items|\n",
            "+---+-------------+\n",
            "|100|   [12, 3, 2]|\n",
            "|200|  [12, 15, 9]|\n",
            "|300|      [12, 2]|\n",
            "|400|       [3, 9]|\n",
            "|500|  [12, 15, 2]|\n",
            "|600|[12, 3, 2, 9]|\n",
            "|700|    [3, 2, 9]|\n",
            "|800|       [2, 3]|\n",
            "+---+-------------+\n",
            "\n"
          ]
        }
      ],
      "source": [
        "m,c,b,p,j = 12,3,2,15,9\n",
        "basket_df = spark.createDataFrame([\n",
        "    (100, [m,c,b]),\n",
        "    (200, [m,p,j]),\n",
        "    (300, [m,b]),\n",
        "    (400, [c,j]),\n",
        "    (500, [m,p,b]),\n",
        "    (600, [m,c,b,j]),\n",
        "    (700, [c,b,j]),\n",
        "    (800, [b,c])\n",
        "], [\"id\", \"items\"])\n",
        "basket_df.show()\n",
        "stockIDs = {b: 'Beer', c: 'Coke', m: 'Milk', j: 'Juice', p: 'Pepsi'}"
      ]
    },
    {
      "cell_type": "markdown",
      "metadata": {
        "id": "MCcjB0cArFhD"
      },
      "source": [
        "<hr>\n",
        "\n",
        "# PySpark Code"
      ]
    },
    {
      "cell_type": "markdown",
      "metadata": {
        "id": "bAphm69L0W6j"
      },
      "source": [
        "## FP-Growth Algorithm\n",
        "\n",
        "Ready to run FP-Growth? References:\n",
        "\n",
        "* PySpark [introduction for FP-Growth](https://spark.apache.org/docs/latest/ml-frequent-pattern-mining.html#fp-growth).\n",
        "* [PySpark Dataframes](https://sparkbyexamples.com/pyspark/convert-pandas-to-pyspark-dataframe/)\n",
        "\n",
        "First, run FP-Growth example from the documentation"
      ]
    },
    {
      "cell_type": "code",
      "execution_count": 8,
      "metadata": {
        "colab": {
          "base_uri": "https://localhost:8080/",
          "height": 0
        },
        "id": "Up3RctnGqS1x",
        "outputId": "70cc3fdd-f3cd-4bfb-f2ce-2e860683e712"
      },
      "outputs": [
        {
          "name": "stderr",
          "output_type": "stream",
          "text": [
            "spark-3.2.1-bin-hadoop3.2/python/pyspark/sql/context.py:127: FutureWarning: Deprecated in 3.0.0. Use SparkSession.builder.getOrCreate() instead.\n",
            "  FutureWarning\n"
          ]
        },
        {
          "name": "stdout",
          "output_type": "stream",
          "text": [
            "+----------+----------+------------------+------------------+-------+\n",
            "|antecedent|consequent|        confidence|              lift|support|\n",
            "+----------+----------+------------------+------------------+-------+\n",
            "|       [3]|       [2]|               0.8|1.0666666666666667|    0.5|\n",
            "|      [12]|       [2]|               0.8|1.0666666666666667|    0.5|\n",
            "|       [2]|       [3]|0.6666666666666666|1.0666666666666667|    0.5|\n",
            "|       [2]|      [12]|0.6666666666666666|1.0666666666666667|    0.5|\n",
            "+----------+----------+------------------+------------------+-------+\n",
            "\n"
          ]
        }
      ],
      "source": [
        "from pyspark.ml.fpm import FPGrowth\n",
        "\n",
        "fpGrowth = FPGrowth(itemsCol=\"items\", minSupport=0.5, minConfidence=0.6)\n",
        "model = fpGrowth.fit(basket_df)\n",
        "\n",
        "# Display generated association rules.\n",
        "model.associationRules.show()"
      ]
    },
    {
      "cell_type": "markdown",
      "metadata": {
        "id": "zBSDgi5wbY4g"
      },
      "source": [
        "## Q1. Interpreting association rules [15] (In the writeup)\n",
        "\n",
        "The above table, has columns antecedent, consequent, confidence, lift and support. \n",
        "\n",
        "1. Explain the first row, `[3] [2] 0.8 1.0666666666666667 0.5` in plain English.\n",
        "2. The first and the third rows have the antecedent and consequent switched, but different confidence values. (Same with second and fourth rows). How do you explain those results?\n",
        "3. What does support = 0.5 for all the rows mean?"
      ]
    },
    {
      "cell_type": "markdown",
      "metadata": {
        "id": "nl7NM8o7VXUX"
      },
      "source": [
        "#### Association Rules with changed minSupport and minConfidence values\n",
        "\n",
        "Modify the support threshold to be 0.375 and minimum confidence to be 0.75 to make the parameters consistent with the settings in the textbook."
      ]
    },
    {
      "cell_type": "code",
      "execution_count": 9,
      "metadata": {
        "colab": {
          "base_uri": "https://localhost:8080/",
          "height": 0
        },
        "id": "b_069trsP92i",
        "outputId": "55798066-b321-4c39-c944-02833b5739c8"
      },
      "outputs": [
        {
          "name": "stderr",
          "output_type": "stream",
          "text": [
            "spark-3.2.1-bin-hadoop3.2/python/pyspark/sql/context.py:127: FutureWarning: Deprecated in 3.0.0. Use SparkSession.builder.getOrCreate() instead.\n",
            "  FutureWarning\n"
          ]
        },
        {
          "name": "stdout",
          "output_type": "stream",
          "text": [
            "+-------+----+\n",
            "|  items|freq|\n",
            "+-------+----+\n",
            "|    [3]|   5|\n",
            "| [3, 2]|   4|\n",
            "|    [2]|   6|\n",
            "|   [12]|   5|\n",
            "|[12, 2]|   4|\n",
            "|    [9]|   4|\n",
            "| [9, 3]|   3|\n",
            "+-------+----+\n",
            "\n",
            "+----------+----------+----------+------------------+-------+\n",
            "|antecedent|consequent|confidence|              lift|support|\n",
            "+----------+----------+----------+------------------+-------+\n",
            "|       [3]|       [2]|       0.8|1.0666666666666667|    0.5|\n",
            "|      [12]|       [2]|       0.8|1.0666666666666667|    0.5|\n",
            "|       [9]|       [3]|      0.75|               1.2|  0.375|\n",
            "+----------+----------+----------+------------------+-------+\n",
            "\n"
          ]
        }
      ],
      "source": [
        "from pyspark.ml.fpm import FPGrowth\n",
        "\n",
        "fpGrowth = FPGrowth(itemsCol=\"items\", minSupport=0.375, minConfidence=0.75)\n",
        "model = fpGrowth.fit(basket_df)\n",
        "\n",
        "# Display frequent itemsets.\n",
        "model.freqItemsets.show()\n",
        "\n",
        "# Display generated association rules.\n",
        "model.associationRules.show()"
      ]
    },
    {
      "cell_type": "markdown",
      "metadata": {
        "id": "z1WhTmNgswT6"
      },
      "source": [
        "## Q2. Interpreting the new association rules [10] (In the writeup)\n",
        "\n",
        "The third row of the result shows a low support (0.375) and a high lift (1.2). What does this line tell us?\n"
      ]
    },
    {
      "cell_type": "markdown",
      "metadata": {
        "id": "b6CJFLmSHSGS"
      },
      "source": [
        "## Q3. Association Rules for an Online Retail Dataset [5]\n",
        "\n",
        "The main part of this exercise involves processing a sampled dataset from a UK-based online retailer. We'll be working with a 8050 record subset.\n",
        "\n",
        "* Read in the data from the dataset `online_retail_III.csv`. For your convenience, I have already thrown away bad records using `dropna()`.\n",
        "* There are a couple of wrinkles to keep in mind in case you are curious, though you may not really need them.\n",
        "    * An invoice represents a shopping cart and it can contain multiple items. \n",
        "    * Some invoice numbers start with a \"C.\" Invoice number C123456 is to be interpreted as a return of items in invoice 123456. The `inum` column represents the Invoice number as well as the credit (return). In other words, Invoice numbers `123456` and `C123456` would have `inum` == 123456."
      ]
    },
    {
      "cell_type": "code",
      "execution_count": 10,
      "metadata": {
        "colab": {
          "base_uri": "https://localhost:8080/",
          "height": 423
        },
        "id": "C_Z7_CykAtJg",
        "outputId": "0f666dfd-f6ab-45a0-a7b3-719f23f9eb3c"
      },
      "outputs": [
        {
          "data": {
            "text/html": [
              "\n",
              "  <div id=\"df-393fc277-85fc-4e8a-83b1-e63e1ff07f4f\">\n",
              "    <div class=\"colab-df-container\">\n",
              "      <div>\n",
              "<style scoped>\n",
              "    .dataframe tbody tr th:only-of-type {\n",
              "        vertical-align: middle;\n",
              "    }\n",
              "\n",
              "    .dataframe tbody tr th {\n",
              "        vertical-align: top;\n",
              "    }\n",
              "\n",
              "    .dataframe thead th {\n",
              "        text-align: right;\n",
              "    }\n",
              "</style>\n",
              "<table border=\"1\" class=\"dataframe\">\n",
              "  <thead>\n",
              "    <tr style=\"text-align: right;\">\n",
              "      <th></th>\n",
              "      <th>Invoice</th>\n",
              "      <th>StockCode</th>\n",
              "      <th>Description</th>\n",
              "      <th>Quantity</th>\n",
              "      <th>InvoiceDate</th>\n",
              "      <th>Price</th>\n",
              "      <th>Customer ID</th>\n",
              "      <th>Country</th>\n",
              "    </tr>\n",
              "  </thead>\n",
              "  <tbody>\n",
              "    <tr>\n",
              "      <th>0</th>\n",
              "      <td>489434</td>\n",
              "      <td>85048</td>\n",
              "      <td>15CM CHRISTMAS GLASS BALL 20 LIGHTS</td>\n",
              "      <td>12</td>\n",
              "      <td>2009-12-01 07:45:00</td>\n",
              "      <td>6.95</td>\n",
              "      <td>13085.0</td>\n",
              "      <td>United Kingdom</td>\n",
              "    </tr>\n",
              "    <tr>\n",
              "      <th>1</th>\n",
              "      <td>489434</td>\n",
              "      <td>79323P</td>\n",
              "      <td>PINK CHERRY LIGHTS</td>\n",
              "      <td>12</td>\n",
              "      <td>2009-12-01 07:45:00</td>\n",
              "      <td>6.75</td>\n",
              "      <td>13085.0</td>\n",
              "      <td>United Kingdom</td>\n",
              "    </tr>\n",
              "    <tr>\n",
              "      <th>2</th>\n",
              "      <td>489434</td>\n",
              "      <td>79323W</td>\n",
              "      <td>WHITE CHERRY LIGHTS</td>\n",
              "      <td>12</td>\n",
              "      <td>2009-12-01 07:45:00</td>\n",
              "      <td>6.75</td>\n",
              "      <td>13085.0</td>\n",
              "      <td>United Kingdom</td>\n",
              "    </tr>\n",
              "    <tr>\n",
              "      <th>3</th>\n",
              "      <td>489434</td>\n",
              "      <td>22041</td>\n",
              "      <td>RECORD FRAME 7\" SINGLE SIZE</td>\n",
              "      <td>48</td>\n",
              "      <td>2009-12-01 07:45:00</td>\n",
              "      <td>2.10</td>\n",
              "      <td>13085.0</td>\n",
              "      <td>United Kingdom</td>\n",
              "    </tr>\n",
              "    <tr>\n",
              "      <th>4</th>\n",
              "      <td>489434</td>\n",
              "      <td>21232</td>\n",
              "      <td>STRAWBERRY CERAMIC TRINKET BOX</td>\n",
              "      <td>24</td>\n",
              "      <td>2009-12-01 07:45:00</td>\n",
              "      <td>1.25</td>\n",
              "      <td>13085.0</td>\n",
              "      <td>United Kingdom</td>\n",
              "    </tr>\n",
              "    <tr>\n",
              "      <th>...</th>\n",
              "      <td>...</td>\n",
              "      <td>...</td>\n",
              "      <td>...</td>\n",
              "      <td>...</td>\n",
              "      <td>...</td>\n",
              "      <td>...</td>\n",
              "      <td>...</td>\n",
              "      <td>...</td>\n",
              "    </tr>\n",
              "    <tr>\n",
              "      <th>1067366</th>\n",
              "      <td>581587</td>\n",
              "      <td>22899</td>\n",
              "      <td>CHILDREN'S APRON DOLLY GIRL</td>\n",
              "      <td>6</td>\n",
              "      <td>2011-12-09 12:50:00</td>\n",
              "      <td>2.10</td>\n",
              "      <td>12680.0</td>\n",
              "      <td>France</td>\n",
              "    </tr>\n",
              "    <tr>\n",
              "      <th>1067367</th>\n",
              "      <td>581587</td>\n",
              "      <td>23254</td>\n",
              "      <td>CHILDRENS CUTLERY DOLLY GIRL</td>\n",
              "      <td>4</td>\n",
              "      <td>2011-12-09 12:50:00</td>\n",
              "      <td>4.15</td>\n",
              "      <td>12680.0</td>\n",
              "      <td>France</td>\n",
              "    </tr>\n",
              "    <tr>\n",
              "      <th>1067368</th>\n",
              "      <td>581587</td>\n",
              "      <td>23255</td>\n",
              "      <td>CHILDRENS CUTLERY CIRCUS PARADE</td>\n",
              "      <td>4</td>\n",
              "      <td>2011-12-09 12:50:00</td>\n",
              "      <td>4.15</td>\n",
              "      <td>12680.0</td>\n",
              "      <td>France</td>\n",
              "    </tr>\n",
              "    <tr>\n",
              "      <th>1067369</th>\n",
              "      <td>581587</td>\n",
              "      <td>22138</td>\n",
              "      <td>BAKING SET 9 PIECE RETROSPOT</td>\n",
              "      <td>3</td>\n",
              "      <td>2011-12-09 12:50:00</td>\n",
              "      <td>4.95</td>\n",
              "      <td>12680.0</td>\n",
              "      <td>France</td>\n",
              "    </tr>\n",
              "    <tr>\n",
              "      <th>1067370</th>\n",
              "      <td>581587</td>\n",
              "      <td>POST</td>\n",
              "      <td>POSTAGE</td>\n",
              "      <td>1</td>\n",
              "      <td>2011-12-09 12:50:00</td>\n",
              "      <td>18.00</td>\n",
              "      <td>12680.0</td>\n",
              "      <td>France</td>\n",
              "    </tr>\n",
              "  </tbody>\n",
              "</table>\n",
              "<p>824364 rows × 8 columns</p>\n",
              "</div>\n",
              "      <button class=\"colab-df-convert\" onclick=\"convertToInteractive('df-393fc277-85fc-4e8a-83b1-e63e1ff07f4f')\"\n",
              "              title=\"Convert this dataframe to an interactive table.\"\n",
              "              style=\"display:none;\">\n",
              "        \n",
              "  <svg xmlns=\"http://www.w3.org/2000/svg\" height=\"24px\"viewBox=\"0 0 24 24\"\n",
              "       width=\"24px\">\n",
              "    <path d=\"M0 0h24v24H0V0z\" fill=\"none\"/>\n",
              "    <path d=\"M18.56 5.44l.94 2.06.94-2.06 2.06-.94-2.06-.94-.94-2.06-.94 2.06-2.06.94zm-11 1L8.5 8.5l.94-2.06 2.06-.94-2.06-.94L8.5 2.5l-.94 2.06-2.06.94zm10 10l.94 2.06.94-2.06 2.06-.94-2.06-.94-.94-2.06-.94 2.06-2.06.94z\"/><path d=\"M17.41 7.96l-1.37-1.37c-.4-.4-.92-.59-1.43-.59-.52 0-1.04.2-1.43.59L10.3 9.45l-7.72 7.72c-.78.78-.78 2.05 0 2.83L4 21.41c.39.39.9.59 1.41.59.51 0 1.02-.2 1.41-.59l7.78-7.78 2.81-2.81c.8-.78.8-2.07 0-2.86zM5.41 20L4 18.59l7.72-7.72 1.47 1.35L5.41 20z\"/>\n",
              "  </svg>\n",
              "      </button>\n",
              "      \n",
              "  <style>\n",
              "    .colab-df-container {\n",
              "      display:flex;\n",
              "      flex-wrap:wrap;\n",
              "      gap: 12px;\n",
              "    }\n",
              "\n",
              "    .colab-df-convert {\n",
              "      background-color: #E8F0FE;\n",
              "      border: none;\n",
              "      border-radius: 50%;\n",
              "      cursor: pointer;\n",
              "      display: none;\n",
              "      fill: #1967D2;\n",
              "      height: 32px;\n",
              "      padding: 0 0 0 0;\n",
              "      width: 32px;\n",
              "    }\n",
              "\n",
              "    .colab-df-convert:hover {\n",
              "      background-color: #E2EBFA;\n",
              "      box-shadow: 0px 1px 2px rgba(60, 64, 67, 0.3), 0px 1px 3px 1px rgba(60, 64, 67, 0.15);\n",
              "      fill: #174EA6;\n",
              "    }\n",
              "\n",
              "    [theme=dark] .colab-df-convert {\n",
              "      background-color: #3B4455;\n",
              "      fill: #D2E3FC;\n",
              "    }\n",
              "\n",
              "    [theme=dark] .colab-df-convert:hover {\n",
              "      background-color: #434B5C;\n",
              "      box-shadow: 0px 1px 3px 1px rgba(0, 0, 0, 0.15);\n",
              "      filter: drop-shadow(0px 1px 2px rgba(0, 0, 0, 0.3));\n",
              "      fill: #FFFFFF;\n",
              "    }\n",
              "  </style>\n",
              "\n",
              "      <script>\n",
              "        const buttonEl =\n",
              "          document.querySelector('#df-393fc277-85fc-4e8a-83b1-e63e1ff07f4f button.colab-df-convert');\n",
              "        buttonEl.style.display =\n",
              "          google.colab.kernel.accessAllowed ? 'block' : 'none';\n",
              "\n",
              "        async function convertToInteractive(key) {\n",
              "          const element = document.querySelector('#df-393fc277-85fc-4e8a-83b1-e63e1ff07f4f');\n",
              "          const dataTable =\n",
              "            await google.colab.kernel.invokeFunction('convertToInteractive',\n",
              "                                                     [key], {});\n",
              "          if (!dataTable) return;\n",
              "\n",
              "          const docLinkHtml = 'Like what you see? Visit the ' +\n",
              "            '<a target=\"_blank\" href=https://colab.research.google.com/notebooks/data_table.ipynb>data table notebook</a>'\n",
              "            + ' to learn more about interactive tables.';\n",
              "          element.innerHTML = '';\n",
              "          dataTable['output_type'] = 'display_data';\n",
              "          await google.colab.output.renderOutput(dataTable, element);\n",
              "          const docLink = document.createElement('div');\n",
              "          docLink.innerHTML = docLinkHtml;\n",
              "          element.appendChild(docLink);\n",
              "        }\n",
              "      </script>\n",
              "    </div>\n",
              "  </div>\n",
              "  "
            ],
            "text/plain": [
              "        Invoice StockCode                          Description  Quantity  \\\n",
              "0        489434     85048  15CM CHRISTMAS GLASS BALL 20 LIGHTS        12   \n",
              "1        489434    79323P                   PINK CHERRY LIGHTS        12   \n",
              "2        489434    79323W                  WHITE CHERRY LIGHTS        12   \n",
              "3        489434     22041         RECORD FRAME 7\" SINGLE SIZE         48   \n",
              "4        489434     21232       STRAWBERRY CERAMIC TRINKET BOX        24   \n",
              "...         ...       ...                                  ...       ...   \n",
              "1067366  581587     22899         CHILDREN'S APRON DOLLY GIRL          6   \n",
              "1067367  581587     23254        CHILDRENS CUTLERY DOLLY GIRL          4   \n",
              "1067368  581587     23255      CHILDRENS CUTLERY CIRCUS PARADE         4   \n",
              "1067369  581587     22138        BAKING SET 9 PIECE RETROSPOT          3   \n",
              "1067370  581587      POST                              POSTAGE         1   \n",
              "\n",
              "                 InvoiceDate  Price  Customer ID         Country  \n",
              "0        2009-12-01 07:45:00   6.95      13085.0  United Kingdom  \n",
              "1        2009-12-01 07:45:00   6.75      13085.0  United Kingdom  \n",
              "2        2009-12-01 07:45:00   6.75      13085.0  United Kingdom  \n",
              "3        2009-12-01 07:45:00   2.10      13085.0  United Kingdom  \n",
              "4        2009-12-01 07:45:00   1.25      13085.0  United Kingdom  \n",
              "...                      ...    ...          ...             ...  \n",
              "1067366  2011-12-09 12:50:00   2.10      12680.0          France  \n",
              "1067367  2011-12-09 12:50:00   4.15      12680.0          France  \n",
              "1067368  2011-12-09 12:50:00   4.15      12680.0          France  \n",
              "1067369  2011-12-09 12:50:00   4.95      12680.0          France  \n",
              "1067370  2011-12-09 12:50:00  18.00      12680.0          France  \n",
              "\n",
              "[824364 rows x 8 columns]"
            ]
          },
          "execution_count": 10,
          "metadata": {},
          "output_type": "execute_result"
        }
      ],
      "source": [
        "import pandas as pd\n",
        "df_orig = pd.read_csv('https://storage.googleapis.com/119-quiz7-files/online_retail_II.csv')\n",
        "df_orig.dropna(inplace=True)\n",
        "df_orig"
      ]
    },
    {
      "cell_type": "markdown",
      "metadata": {
        "id": "kAtggDnE725r"
      },
      "source": [
        "#### Data Scrubbing\n",
        "\n",
        "Remove the rows we should filter away. They aren't necessarily visible in the summary view but we know they exist.\n",
        "\n",
        "* StockCode `POST`,\n",
        "* StockCode `M`.\n"
      ]
    },
    {
      "cell_type": "code",
      "execution_count": 11,
      "metadata": {
        "id": "Scv3X6UHDjWv"
      },
      "outputs": [],
      "source": [
        "# filter out rows with POST and M\n",
        "df_orig = df_orig[(df_orig.StockCode != 'POST') & (df_orig.StockCode != 'M')]"
      ]
    },
    {
      "cell_type": "code",
      "execution_count": 12,
      "metadata": {
        "colab": {
          "base_uri": "https://localhost:8080/",
          "height": 0
        },
        "id": "w3BE2F4BFz1o",
        "outputId": "9edc6772-d5ae-4a0b-9826-3c2d8a905631"
      },
      "outputs": [
        {
          "name": "stderr",
          "output_type": "stream",
          "text": [
            "/usr/local/lib/python3.7/dist-packages/pandas/core/indexing.py:1667: SettingWithCopyWarning: \n",
            "A value is trying to be set on a copy of a slice from a DataFrame.\n",
            "Try using .loc[row_indexer,col_indexer] = value instead\n",
            "\n",
            "See the caveats in the documentation: https://pandas.pydata.org/pandas-docs/stable/user_guide/indexing.html#returning-a-view-versus-a-copy\n",
            "  self.obj[key] = value\n"
          ]
        }
      ],
      "source": [
        "# mkae inum column (remove character 'C' in Invoice)\n",
        "df_orig.loc[:,'inum'] = [x if x[0] != 'C' else x[1:] for x in df_orig.Invoice]"
      ]
    },
    {
      "cell_type": "code",
      "execution_count": 13,
      "metadata": {
        "colab": {
          "base_uri": "https://localhost:8080/",
          "height": 0
        },
        "id": "k1QHGwE_FPxs",
        "outputId": "afdba9e2-edab-4288-90f7-1c79f016a7ba"
      },
      "outputs": [
        {
          "name": "stderr",
          "output_type": "stream",
          "text": [
            "/usr/local/lib/python3.7/dist-packages/ipykernel_launcher.py:2: SettingWithCopyWarning: \n",
            "A value is trying to be set on a copy of a slice from a DataFrame.\n",
            "Try using .loc[row_indexer,col_indexer] = value instead\n",
            "\n",
            "See the caveats in the documentation: https://pandas.pydata.org/pandas-docs/stable/user_guide/indexing.html#returning-a-view-versus-a-copy\n",
            "  \n"
          ]
        }
      ],
      "source": [
        "# make into type int\n",
        "df_orig['inum'] = df_orig['inum'].astype('int')"
      ]
    },
    {
      "cell_type": "code",
      "execution_count": 14,
      "metadata": {
        "colab": {
          "base_uri": "https://localhost:8080/",
          "height": 0
        },
        "id": "Ty_aUz0hHnH2",
        "outputId": "5927bba3-e4cd-49f5-e158-31e21b2be2f5"
      },
      "outputs": [
        {
          "data": {
            "text/plain": [
              "array(['85048', '79323P', '79323W', ..., '23562', '23561', '23843'],\n",
              "      dtype=object)"
            ]
          },
          "execution_count": 14,
          "metadata": {},
          "output_type": "execute_result"
        }
      ],
      "source": [
        "# get all unique stockcode to make a mapping of integers to code\n",
        "stockcode = pd.unique(df_orig.StockCode)\n",
        "stockcode"
      ]
    },
    {
      "cell_type": "code",
      "execution_count": 15,
      "metadata": {
        "id": "d3IV4vvdJCfJ"
      },
      "outputs": [],
      "source": [
        "# make the unique integer to stock codes map\n",
        "code_map = {}\n",
        "for index, code in enumerate(stockcode):\n",
        "  code_map[code] = index"
      ]
    },
    {
      "cell_type": "markdown",
      "metadata": {
        "id": "9jdR6LtBLY9Y"
      },
      "source": [
        "## Q4. Connecting Online Retail Data to FP-Growth [30]\n",
        "\n",
        "Adapt the DataFrame to look like `df_basket` above. \n",
        "* `df_orig` is a Pandas DataFrame whereas `df_basket`-equivalent will have to be Spark DataFrames.\n",
        "* `Invoice` and `StockCode` are strings but FP-Growth needs inputs to be integers. You'd need to map strings to integers before feeding them to FP-Growth and convert the resulting antecedents and consequents back."
      ]
    },
    {
      "cell_type": "code",
      "execution_count": 16,
      "metadata": {
        "id": "rX9UqmMoJ0DW"
      },
      "outputs": [],
      "source": [
        "from collections import defaultdict\n",
        "df_dict = defaultdict(set)\n",
        "for _, row in df_orig.iterrows():\n",
        "  inv = row['inum']\n",
        "  code_num = code_map[row['StockCode']]\n",
        "  df_dict[inv].add(code_num)"
      ]
    },
    {
      "cell_type": "code",
      "execution_count": 17,
      "metadata": {
        "id": "Qlxzq5QlMah2"
      },
      "outputs": [],
      "source": [
        "df_list = []\n",
        "for inv in df_dict:\n",
        "  df_list.append((inv, list(df_dict[inv])))"
      ]
    },
    {
      "cell_type": "code",
      "execution_count": 18,
      "metadata": {
        "colab": {
          "base_uri": "https://localhost:8080/",
          "height": 0
        },
        "id": "tkc41rTWESge",
        "outputId": "3c52c3da-0d06-4140-fb30-cae23cb0913c"
      },
      "outputs": [
        {
          "name": "stdout",
          "output_type": "stream",
          "text": [
            "+-------+--------------------+\n",
            "|invoice|               stock|\n",
            "+-------+--------------------+\n",
            "| 489434|[0, 1, 2, 3, 4, 5...|\n",
            "| 489435|      [8, 9, 10, 11]|\n",
            "| 489436|[12, 13, 14, 15, ...|\n",
            "| 489437|[30, 31, 32, 33, ...|\n",
            "| 489438|[64, 65, 66, 67, ...|\n",
            "| 489439|[33, 5, 70, 71, 7...|\n",
            "| 489440|              [8, 9]|\n",
            "| 489441|    [87, 30, 86, 71]|\n",
            "| 489442|[18, 30, 48, 49, ...|\n",
            "| 489443|[3, 107, 108, 109...|\n",
            "| 489445|[128, 33, 71, 86,...|\n",
            "| 489446|[129, 130, 131, 1...|\n",
            "| 489448|[152, 149, 150, 151]|\n",
            "| 489449|[6, 136, 46, 153,...|\n",
            "| 489450|[6, 136, 46, 153,...|\n",
            "| 489459|[160, 161, 162, 1...|\n",
            "| 489460|[1, 2, 71, 72, 17...|\n",
            "| 489461|[131, 132, 4, 24,...|\n",
            "| 489462|[160, 161, 162, 1...|\n",
            "| 489465|[129, 131, 137, 1...|\n",
            "+-------+--------------------+\n",
            "only showing top 20 rows\n",
            "\n"
          ]
        }
      ],
      "source": [
        "df_basket = spark.createDataFrame(df_list, [\"invoice\", \"stock\"])\n",
        "df_basket.show()"
      ]
    },
    {
      "cell_type": "markdown",
      "metadata": {
        "id": "GbQDy_QwRE3Z"
      },
      "source": [
        "### Establish the mapping between Invoice IDs, StockCodes and unique integers."
      ]
    },
    {
      "cell_type": "markdown",
      "metadata": {
        "id": "veYgGCzyXa6l"
      },
      "source": [
        "## Q5. Fine-tuning FP-Growth runs [20]\n",
        "\n",
        "* Set `minConfidence` = 0.75.\n",
        "* Set `minSupport` such that the total number of association rules is between 10 and 20. (If `minSupport` is small, the number of association rules will increase. As it increases, the number of association rules will decrease.).\n",
        "\n"
      ]
    },
    {
      "cell_type": "code",
      "execution_count": 19,
      "metadata": {
        "id": "4vRLtlTHNZdG"
      },
      "outputs": [],
      "source": [
        "from pyspark.ml.fpm import FPGrowth\n",
        "\n",
        "fpGrowth = FPGrowth(itemsCol=\"stock\", minSupport=0.01, minConfidence=0.75)\n",
        "model = fpGrowth.fit(df_basket)"
      ]
    },
    {
      "cell_type": "code",
      "execution_count": 20,
      "metadata": {
        "colab": {
          "base_uri": "https://localhost:8080/",
          "height": 0
        },
        "id": "bceNmTNAN2c-",
        "outputId": "3ca31728-3832-407c-8676-41bf9603448f"
      },
      "outputs": [
        {
          "name": "stderr",
          "output_type": "stream",
          "text": [
            "spark-3.2.1-bin-hadoop3.2/python/pyspark/sql/context.py:127: FutureWarning: Deprecated in 3.0.0. Use SparkSession.builder.getOrCreate() instead.\n",
            "  FutureWarning\n"
          ]
        },
        {
          "name": "stdout",
          "output_type": "stream",
          "text": [
            "+------------+----------+------------------+------------------+--------------------+\n",
            "|  antecedent|consequent|        confidence|              lift|             support|\n",
            "+------------+----------+------------------+------------------+--------------------+\n",
            "| [855, 3012]|     [140]|0.7538940809968847| 9.959836101473948|0.010958904109589041|\n",
            "|[3728, 3729]|    [3727]|0.8440366972477065|32.959222576432325|0.012498584852258576|\n",
            "|      [3839]|    [3843]|0.7641357027463651| 60.37218839319001|0.010709838107098382|\n",
            "|[3729, 3310]|    [3727]|0.8330241187384044|32.529186741009404|0.010166421374391487|\n",
            "|[3728, 3727]|    [3729]|            0.8832| 38.85112350597609|0.012498584852258576|\n",
            "|      [3728]|    [3729]|0.8154613466334164|  35.8713649144072|0.014808105966262877|\n",
            "|      [3728]|    [3727]|0.7793017456359103|30.431354196295295|0.014151477414242046|\n",
            "|      [3843]|    [3839]|0.8461538461538461| 60.37218839319001|0.010709838107098382|\n",
            "|       [376]|     [387]|            0.7872| 49.88047058823529| 0.01114004302049134|\n",
            "|       [441]|     [440]|0.8023255813953488| 47.69139879182447|0.010936261745726254|\n",
            "|      [1013]|     [110]|0.7544097693351425| 35.63476733977173|0.012589154307709726|\n",
            "|      [3729]|    [3727]|0.7709163346613546|30.103907975524958| 0.01752518962979735|\n",
            "+------------+----------+------------------+------------------+--------------------+\n",
            "\n"
          ]
        }
      ],
      "source": [
        "# Display generated association rules.\n",
        "model.associationRules.show()"
      ]
    },
    {
      "cell_type": "markdown",
      "metadata": {
        "id": "HRO1n42GX3Be"
      },
      "source": [
        "## Q6. Final Association Rules [20]\n",
        "\n",
        "Present the resulting Association Rules in terms of the original StockCodes and Descriptions, in descending order of lift."
      ]
    },
    {
      "cell_type": "code",
      "execution_count": 21,
      "metadata": {
        "colab": {
          "base_uri": "https://localhost:8080/",
          "height": 0
        },
        "id": "Rk2f-OtyiFw_",
        "outputId": "d1e7de40-ebf3-409d-c592-1d00f398c564"
      },
      "outputs": [
        {
          "name": "stderr",
          "output_type": "stream",
          "text": [
            "spark-3.2.1-bin-hadoop3.2/python/pyspark/sql/context.py:127: FutureWarning: Deprecated in 3.0.0. Use SparkSession.builder.getOrCreate() instead.\n",
            "  FutureWarning\n"
          ]
        }
      ],
      "source": [
        "final_rules = model.associationRules.select('antecedent', 'consequent','lift').toPandas()"
      ]
    },
    {
      "cell_type": "code",
      "execution_count": 22,
      "metadata": {
        "id": "fPgGT4yMPbSW"
      },
      "outputs": [],
      "source": [
        "final_rules.columns = ['Invoice', 'StockCodes', 'Lift']"
      ]
    },
    {
      "cell_type": "code",
      "execution_count": 23,
      "metadata": {
        "id": "E0BOJutrRNlp"
      },
      "outputs": [],
      "source": [
        "inv_map = {v: k for k, v in code_map.items()}"
      ]
    },
    {
      "cell_type": "code",
      "execution_count": 24,
      "metadata": {
        "colab": {
          "base_uri": "https://localhost:8080/",
          "height": 0
        },
        "id": "QIKMShlwPaEf",
        "outputId": "2fd62c93-f410-4777-c435-3b2aade3c8e8"
      },
      "outputs": [
        {
          "data": {
            "text/plain": [
              "['85099B',\n",
              " '22699',\n",
              " '22745',\n",
              " '22699',\n",
              " '22697',\n",
              " '22697',\n",
              " '22699',\n",
              " '22748',\n",
              " '21094',\n",
              " '21122',\n",
              " '82580',\n",
              " '22699']"
            ]
          },
          "execution_count": 24,
          "metadata": {},
          "output_type": "execute_result"
        }
      ],
      "source": [
        "new_list = []\n",
        "for index, c in enumerate(final_rules.StockCodes):\n",
        "  map_back = inv_map[c[0]]\n",
        "  new_list.append(map_back)\n",
        "new_list"
      ]
    },
    {
      "cell_type": "code",
      "execution_count": 25,
      "metadata": {
        "colab": {
          "base_uri": "https://localhost:8080/",
          "height": 426
        },
        "id": "yHuTOD5uPfgm",
        "outputId": "f5ba1f05-f60f-4cdc-c031-78bd5dc7f642"
      },
      "outputs": [
        {
          "data": {
            "text/html": [
              "\n",
              "  <div id=\"df-e266a964-edcc-455c-b127-302d480088a9\">\n",
              "    <div class=\"colab-df-container\">\n",
              "      <div>\n",
              "<style scoped>\n",
              "    .dataframe tbody tr th:only-of-type {\n",
              "        vertical-align: middle;\n",
              "    }\n",
              "\n",
              "    .dataframe tbody tr th {\n",
              "        vertical-align: top;\n",
              "    }\n",
              "\n",
              "    .dataframe thead th {\n",
              "        text-align: right;\n",
              "    }\n",
              "</style>\n",
              "<table border=\"1\" class=\"dataframe\">\n",
              "  <thead>\n",
              "    <tr style=\"text-align: right;\">\n",
              "      <th></th>\n",
              "      <th>Invoice</th>\n",
              "      <th>StockCodes</th>\n",
              "      <th>Lift</th>\n",
              "    </tr>\n",
              "  </thead>\n",
              "  <tbody>\n",
              "    <tr>\n",
              "      <th>0</th>\n",
              "      <td>[855, 3012]</td>\n",
              "      <td>85099B</td>\n",
              "      <td>9.959836</td>\n",
              "    </tr>\n",
              "    <tr>\n",
              "      <th>1</th>\n",
              "      <td>[3728, 3729]</td>\n",
              "      <td>22699</td>\n",
              "      <td>32.959223</td>\n",
              "    </tr>\n",
              "    <tr>\n",
              "      <th>2</th>\n",
              "      <td>[3839]</td>\n",
              "      <td>22745</td>\n",
              "      <td>60.372188</td>\n",
              "    </tr>\n",
              "    <tr>\n",
              "      <th>3</th>\n",
              "      <td>[3729, 3310]</td>\n",
              "      <td>22699</td>\n",
              "      <td>32.529187</td>\n",
              "    </tr>\n",
              "    <tr>\n",
              "      <th>4</th>\n",
              "      <td>[3728, 3727]</td>\n",
              "      <td>22697</td>\n",
              "      <td>38.851124</td>\n",
              "    </tr>\n",
              "    <tr>\n",
              "      <th>5</th>\n",
              "      <td>[3728]</td>\n",
              "      <td>22697</td>\n",
              "      <td>35.871365</td>\n",
              "    </tr>\n",
              "    <tr>\n",
              "      <th>6</th>\n",
              "      <td>[3728]</td>\n",
              "      <td>22699</td>\n",
              "      <td>30.431354</td>\n",
              "    </tr>\n",
              "    <tr>\n",
              "      <th>7</th>\n",
              "      <td>[3843]</td>\n",
              "      <td>22748</td>\n",
              "      <td>60.372188</td>\n",
              "    </tr>\n",
              "    <tr>\n",
              "      <th>8</th>\n",
              "      <td>[376]</td>\n",
              "      <td>21094</td>\n",
              "      <td>49.880471</td>\n",
              "    </tr>\n",
              "    <tr>\n",
              "      <th>9</th>\n",
              "      <td>[441]</td>\n",
              "      <td>21122</td>\n",
              "      <td>47.691399</td>\n",
              "    </tr>\n",
              "    <tr>\n",
              "      <th>10</th>\n",
              "      <td>[1013]</td>\n",
              "      <td>82580</td>\n",
              "      <td>35.634767</td>\n",
              "    </tr>\n",
              "    <tr>\n",
              "      <th>11</th>\n",
              "      <td>[3729]</td>\n",
              "      <td>22699</td>\n",
              "      <td>30.103908</td>\n",
              "    </tr>\n",
              "  </tbody>\n",
              "</table>\n",
              "</div>\n",
              "      <button class=\"colab-df-convert\" onclick=\"convertToInteractive('df-e266a964-edcc-455c-b127-302d480088a9')\"\n",
              "              title=\"Convert this dataframe to an interactive table.\"\n",
              "              style=\"display:none;\">\n",
              "        \n",
              "  <svg xmlns=\"http://www.w3.org/2000/svg\" height=\"24px\"viewBox=\"0 0 24 24\"\n",
              "       width=\"24px\">\n",
              "    <path d=\"M0 0h24v24H0V0z\" fill=\"none\"/>\n",
              "    <path d=\"M18.56 5.44l.94 2.06.94-2.06 2.06-.94-2.06-.94-.94-2.06-.94 2.06-2.06.94zm-11 1L8.5 8.5l.94-2.06 2.06-.94-2.06-.94L8.5 2.5l-.94 2.06-2.06.94zm10 10l.94 2.06.94-2.06 2.06-.94-2.06-.94-.94-2.06-.94 2.06-2.06.94z\"/><path d=\"M17.41 7.96l-1.37-1.37c-.4-.4-.92-.59-1.43-.59-.52 0-1.04.2-1.43.59L10.3 9.45l-7.72 7.72c-.78.78-.78 2.05 0 2.83L4 21.41c.39.39.9.59 1.41.59.51 0 1.02-.2 1.41-.59l7.78-7.78 2.81-2.81c.8-.78.8-2.07 0-2.86zM5.41 20L4 18.59l7.72-7.72 1.47 1.35L5.41 20z\"/>\n",
              "  </svg>\n",
              "      </button>\n",
              "      \n",
              "  <style>\n",
              "    .colab-df-container {\n",
              "      display:flex;\n",
              "      flex-wrap:wrap;\n",
              "      gap: 12px;\n",
              "    }\n",
              "\n",
              "    .colab-df-convert {\n",
              "      background-color: #E8F0FE;\n",
              "      border: none;\n",
              "      border-radius: 50%;\n",
              "      cursor: pointer;\n",
              "      display: none;\n",
              "      fill: #1967D2;\n",
              "      height: 32px;\n",
              "      padding: 0 0 0 0;\n",
              "      width: 32px;\n",
              "    }\n",
              "\n",
              "    .colab-df-convert:hover {\n",
              "      background-color: #E2EBFA;\n",
              "      box-shadow: 0px 1px 2px rgba(60, 64, 67, 0.3), 0px 1px 3px 1px rgba(60, 64, 67, 0.15);\n",
              "      fill: #174EA6;\n",
              "    }\n",
              "\n",
              "    [theme=dark] .colab-df-convert {\n",
              "      background-color: #3B4455;\n",
              "      fill: #D2E3FC;\n",
              "    }\n",
              "\n",
              "    [theme=dark] .colab-df-convert:hover {\n",
              "      background-color: #434B5C;\n",
              "      box-shadow: 0px 1px 3px 1px rgba(0, 0, 0, 0.15);\n",
              "      filter: drop-shadow(0px 1px 2px rgba(0, 0, 0, 0.3));\n",
              "      fill: #FFFFFF;\n",
              "    }\n",
              "  </style>\n",
              "\n",
              "      <script>\n",
              "        const buttonEl =\n",
              "          document.querySelector('#df-e266a964-edcc-455c-b127-302d480088a9 button.colab-df-convert');\n",
              "        buttonEl.style.display =\n",
              "          google.colab.kernel.accessAllowed ? 'block' : 'none';\n",
              "\n",
              "        async function convertToInteractive(key) {\n",
              "          const element = document.querySelector('#df-e266a964-edcc-455c-b127-302d480088a9');\n",
              "          const dataTable =\n",
              "            await google.colab.kernel.invokeFunction('convertToInteractive',\n",
              "                                                     [key], {});\n",
              "          if (!dataTable) return;\n",
              "\n",
              "          const docLinkHtml = 'Like what you see? Visit the ' +\n",
              "            '<a target=\"_blank\" href=https://colab.research.google.com/notebooks/data_table.ipynb>data table notebook</a>'\n",
              "            + ' to learn more about interactive tables.';\n",
              "          element.innerHTML = '';\n",
              "          dataTable['output_type'] = 'display_data';\n",
              "          await google.colab.output.renderOutput(dataTable, element);\n",
              "          const docLink = document.createElement('div');\n",
              "          docLink.innerHTML = docLinkHtml;\n",
              "          element.appendChild(docLink);\n",
              "        }\n",
              "      </script>\n",
              "    </div>\n",
              "  </div>\n",
              "  "
            ],
            "text/plain": [
              "         Invoice StockCodes       Lift\n",
              "0    [855, 3012]     85099B   9.959836\n",
              "1   [3728, 3729]      22699  32.959223\n",
              "2         [3839]      22745  60.372188\n",
              "3   [3729, 3310]      22699  32.529187\n",
              "4   [3728, 3727]      22697  38.851124\n",
              "5         [3728]      22697  35.871365\n",
              "6         [3728]      22699  30.431354\n",
              "7         [3843]      22748  60.372188\n",
              "8          [376]      21094  49.880471\n",
              "9          [441]      21122  47.691399\n",
              "10        [1013]      82580  35.634767\n",
              "11        [3729]      22699  30.103908"
            ]
          },
          "execution_count": 25,
          "metadata": {},
          "output_type": "execute_result"
        }
      ],
      "source": [
        "final_rules['StockCodes'] = new_list\n",
        "final_rules"
      ]
    },
    {
      "cell_type": "code",
      "execution_count": 26,
      "metadata": {
        "id": "RFsVndh3Soas"
      },
      "outputs": [],
      "source": [
        "final_rules.sort_values('Lift', ascending=False, inplace=True)"
      ]
    },
    {
      "cell_type": "code",
      "execution_count": 27,
      "metadata": {
        "id": "EXq5FTP2Uovz"
      },
      "outputs": [],
      "source": [
        "description_df = df_orig[['StockCode', 'Description']].drop_duplicates()"
      ]
    },
    {
      "cell_type": "code",
      "execution_count": 39,
      "metadata": {
        "id": "TvdG7VyhTUj5"
      },
      "outputs": [],
      "source": [
        "with_desc = final_rules.merge(description_df, how = 'left', left_on = 'StockCodes', right_on = 'StockCode')\n",
        "with_desc.drop(\"StockCode\", axis=1, inplace=True)"
      ]
    },
    {
      "cell_type": "code",
      "execution_count": 40,
      "metadata": {
        "colab": {
          "base_uri": "https://localhost:8080/",
          "height": 426
        },
        "id": "e_udfj9e4nVK",
        "outputId": "ce246364-6c2b-4198-972e-607ca627ef38"
      },
      "outputs": [
        {
          "data": {
            "text/html": [
              "\n",
              "  <div id=\"df-96371ffe-a84d-44a2-8fab-acef405fe433\">\n",
              "    <div class=\"colab-df-container\">\n",
              "      <div>\n",
              "<style scoped>\n",
              "    .dataframe tbody tr th:only-of-type {\n",
              "        vertical-align: middle;\n",
              "    }\n",
              "\n",
              "    .dataframe tbody tr th {\n",
              "        vertical-align: top;\n",
              "    }\n",
              "\n",
              "    .dataframe thead th {\n",
              "        text-align: right;\n",
              "    }\n",
              "</style>\n",
              "<table border=\"1\" class=\"dataframe\">\n",
              "  <thead>\n",
              "    <tr style=\"text-align: right;\">\n",
              "      <th></th>\n",
              "      <th>Invoice</th>\n",
              "      <th>StockCodes</th>\n",
              "      <th>Lift</th>\n",
              "      <th>Description</th>\n",
              "    </tr>\n",
              "  </thead>\n",
              "  <tbody>\n",
              "    <tr>\n",
              "      <th>0</th>\n",
              "      <td>[3839]</td>\n",
              "      <td>22745</td>\n",
              "      <td>60.372188</td>\n",
              "      <td>POPPY'S PLAYHOUSE BEDROOM</td>\n",
              "    </tr>\n",
              "    <tr>\n",
              "      <th>1</th>\n",
              "      <td>[3843]</td>\n",
              "      <td>22748</td>\n",
              "      <td>60.372188</td>\n",
              "      <td>POPPY'S PLAYHOUSE KITCHEN</td>\n",
              "    </tr>\n",
              "    <tr>\n",
              "      <th>2</th>\n",
              "      <td>[376]</td>\n",
              "      <td>21094</td>\n",
              "      <td>49.880471</td>\n",
              "      <td>SET/6 RED SPOTTY PAPER PLATES</td>\n",
              "    </tr>\n",
              "    <tr>\n",
              "      <th>3</th>\n",
              "      <td>[441]</td>\n",
              "      <td>21122</td>\n",
              "      <td>47.691399</td>\n",
              "      <td>SET/10 PINK SPOTTY PARTY CANDLES</td>\n",
              "    </tr>\n",
              "    <tr>\n",
              "      <th>5</th>\n",
              "      <td>[3728, 3727]</td>\n",
              "      <td>22697</td>\n",
              "      <td>38.851124</td>\n",
              "      <td>GREEN REGENCY TEACUP AND SAUCER</td>\n",
              "    </tr>\n",
              "    <tr>\n",
              "      <th>7</th>\n",
              "      <td>[3728]</td>\n",
              "      <td>22697</td>\n",
              "      <td>35.871365</td>\n",
              "      <td>GREEN REGENCY TEACUP AND SAUCER</td>\n",
              "    </tr>\n",
              "    <tr>\n",
              "      <th>9</th>\n",
              "      <td>[1013]</td>\n",
              "      <td>82580</td>\n",
              "      <td>35.634767</td>\n",
              "      <td>BATHROOM METAL SIGN</td>\n",
              "    </tr>\n",
              "    <tr>\n",
              "      <th>10</th>\n",
              "      <td>[3728, 3729]</td>\n",
              "      <td>22699</td>\n",
              "      <td>32.959223</td>\n",
              "      <td>ROSES REGENCY TEACUP AND SAUCER</td>\n",
              "    </tr>\n",
              "    <tr>\n",
              "      <th>12</th>\n",
              "      <td>[3729, 3310]</td>\n",
              "      <td>22699</td>\n",
              "      <td>32.529187</td>\n",
              "      <td>ROSES REGENCY TEACUP AND SAUCER</td>\n",
              "    </tr>\n",
              "    <tr>\n",
              "      <th>14</th>\n",
              "      <td>[3728]</td>\n",
              "      <td>22699</td>\n",
              "      <td>30.431354</td>\n",
              "      <td>ROSES REGENCY TEACUP AND SAUCER</td>\n",
              "    </tr>\n",
              "    <tr>\n",
              "      <th>16</th>\n",
              "      <td>[3729]</td>\n",
              "      <td>22699</td>\n",
              "      <td>30.103908</td>\n",
              "      <td>ROSES REGENCY TEACUP AND SAUCER</td>\n",
              "    </tr>\n",
              "    <tr>\n",
              "      <th>18</th>\n",
              "      <td>[855, 3012]</td>\n",
              "      <td>85099B</td>\n",
              "      <td>9.959836</td>\n",
              "      <td>JUMBO BAG RED WHITE SPOTTY</td>\n",
              "    </tr>\n",
              "  </tbody>\n",
              "</table>\n",
              "</div>\n",
              "      <button class=\"colab-df-convert\" onclick=\"convertToInteractive('df-96371ffe-a84d-44a2-8fab-acef405fe433')\"\n",
              "              title=\"Convert this dataframe to an interactive table.\"\n",
              "              style=\"display:none;\">\n",
              "        \n",
              "  <svg xmlns=\"http://www.w3.org/2000/svg\" height=\"24px\"viewBox=\"0 0 24 24\"\n",
              "       width=\"24px\">\n",
              "    <path d=\"M0 0h24v24H0V0z\" fill=\"none\"/>\n",
              "    <path d=\"M18.56 5.44l.94 2.06.94-2.06 2.06-.94-2.06-.94-.94-2.06-.94 2.06-2.06.94zm-11 1L8.5 8.5l.94-2.06 2.06-.94-2.06-.94L8.5 2.5l-.94 2.06-2.06.94zm10 10l.94 2.06.94-2.06 2.06-.94-2.06-.94-.94-2.06-.94 2.06-2.06.94z\"/><path d=\"M17.41 7.96l-1.37-1.37c-.4-.4-.92-.59-1.43-.59-.52 0-1.04.2-1.43.59L10.3 9.45l-7.72 7.72c-.78.78-.78 2.05 0 2.83L4 21.41c.39.39.9.59 1.41.59.51 0 1.02-.2 1.41-.59l7.78-7.78 2.81-2.81c.8-.78.8-2.07 0-2.86zM5.41 20L4 18.59l7.72-7.72 1.47 1.35L5.41 20z\"/>\n",
              "  </svg>\n",
              "      </button>\n",
              "      \n",
              "  <style>\n",
              "    .colab-df-container {\n",
              "      display:flex;\n",
              "      flex-wrap:wrap;\n",
              "      gap: 12px;\n",
              "    }\n",
              "\n",
              "    .colab-df-convert {\n",
              "      background-color: #E8F0FE;\n",
              "      border: none;\n",
              "      border-radius: 50%;\n",
              "      cursor: pointer;\n",
              "      display: none;\n",
              "      fill: #1967D2;\n",
              "      height: 32px;\n",
              "      padding: 0 0 0 0;\n",
              "      width: 32px;\n",
              "    }\n",
              "\n",
              "    .colab-df-convert:hover {\n",
              "      background-color: #E2EBFA;\n",
              "      box-shadow: 0px 1px 2px rgba(60, 64, 67, 0.3), 0px 1px 3px 1px rgba(60, 64, 67, 0.15);\n",
              "      fill: #174EA6;\n",
              "    }\n",
              "\n",
              "    [theme=dark] .colab-df-convert {\n",
              "      background-color: #3B4455;\n",
              "      fill: #D2E3FC;\n",
              "    }\n",
              "\n",
              "    [theme=dark] .colab-df-convert:hover {\n",
              "      background-color: #434B5C;\n",
              "      box-shadow: 0px 1px 3px 1px rgba(0, 0, 0, 0.15);\n",
              "      filter: drop-shadow(0px 1px 2px rgba(0, 0, 0, 0.3));\n",
              "      fill: #FFFFFF;\n",
              "    }\n",
              "  </style>\n",
              "\n",
              "      <script>\n",
              "        const buttonEl =\n",
              "          document.querySelector('#df-96371ffe-a84d-44a2-8fab-acef405fe433 button.colab-df-convert');\n",
              "        buttonEl.style.display =\n",
              "          google.colab.kernel.accessAllowed ? 'block' : 'none';\n",
              "\n",
              "        async function convertToInteractive(key) {\n",
              "          const element = document.querySelector('#df-96371ffe-a84d-44a2-8fab-acef405fe433');\n",
              "          const dataTable =\n",
              "            await google.colab.kernel.invokeFunction('convertToInteractive',\n",
              "                                                     [key], {});\n",
              "          if (!dataTable) return;\n",
              "\n",
              "          const docLinkHtml = 'Like what you see? Visit the ' +\n",
              "            '<a target=\"_blank\" href=https://colab.research.google.com/notebooks/data_table.ipynb>data table notebook</a>'\n",
              "            + ' to learn more about interactive tables.';\n",
              "          element.innerHTML = '';\n",
              "          dataTable['output_type'] = 'display_data';\n",
              "          await google.colab.output.renderOutput(dataTable, element);\n",
              "          const docLink = document.createElement('div');\n",
              "          docLink.innerHTML = docLinkHtml;\n",
              "          element.appendChild(docLink);\n",
              "        }\n",
              "      </script>\n",
              "    </div>\n",
              "  </div>\n",
              "  "
            ],
            "text/plain": [
              "         Invoice StockCodes       Lift                       Description\n",
              "0         [3839]      22745  60.372188        POPPY'S PLAYHOUSE BEDROOM \n",
              "1         [3843]      22748  60.372188         POPPY'S PLAYHOUSE KITCHEN\n",
              "2          [376]      21094  49.880471     SET/6 RED SPOTTY PAPER PLATES\n",
              "3          [441]      21122  47.691399  SET/10 PINK SPOTTY PARTY CANDLES\n",
              "5   [3728, 3727]      22697  38.851124   GREEN REGENCY TEACUP AND SAUCER\n",
              "7         [3728]      22697  35.871365   GREEN REGENCY TEACUP AND SAUCER\n",
              "9         [1013]      82580  35.634767               BATHROOM METAL SIGN\n",
              "10  [3728, 3729]      22699  32.959223  ROSES REGENCY TEACUP AND SAUCER \n",
              "12  [3729, 3310]      22699  32.529187  ROSES REGENCY TEACUP AND SAUCER \n",
              "14        [3728]      22699  30.431354  ROSES REGENCY TEACUP AND SAUCER \n",
              "16        [3729]      22699  30.103908  ROSES REGENCY TEACUP AND SAUCER \n",
              "18   [855, 3012]     85099B   9.959836       JUMBO BAG RED WHITE SPOTTY "
            ]
          },
          "execution_count": 40,
          "metadata": {},
          "output_type": "execute_result"
        }
      ],
      "source": [
        "with_desc.drop_duplicates(subset=[\"StockCodes\", \"Lift\"], keep='first', inplace=True)\n",
        "with_desc"
      ]
    }
  ],
  "metadata": {
    "colab": {
      "collapsed_sections": [
        "z1WhTmNgswT6"
      ],
      "name": "Frequent Itemsets with PySpark in Colab",
      "provenance": []
    },
    "kernelspec": {
      "display_name": "Python 3",
      "name": "python3"
    },
    "language_info": {
      "name": "python",
      "version": "3.7.6"
    }
  },
  "nbformat": 4,
  "nbformat_minor": 0
}
